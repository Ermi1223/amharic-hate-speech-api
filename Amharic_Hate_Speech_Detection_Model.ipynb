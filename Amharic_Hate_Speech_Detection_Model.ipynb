{
  "nbformat": 4,
  "nbformat_minor": 0,
  "metadata": {
    "colab": {
      "provenance": [],
      "gpuType": "T4",
      "authorship_tag": "ABX9TyPbpPBJykbvFoSOs92YnDof",
      "include_colab_link": true
    },
    "kernelspec": {
      "name": "python3",
      "display_name": "Python 3"
    },
    "language_info": {
      "name": "python"
    },
    "accelerator": "GPU",
    "widgets": {
      "application/vnd.jupyter.widget-state+json": {
        "cecdce5bca4c40b8870dd4ef011be904": {
          "model_module": "@jupyter-widgets/controls",
          "model_name": "HBoxModel",
          "model_module_version": "1.5.0",
          "state": {
            "_dom_classes": [],
            "_model_module": "@jupyter-widgets/controls",
            "_model_module_version": "1.5.0",
            "_model_name": "HBoxModel",
            "_view_count": null,
            "_view_module": "@jupyter-widgets/controls",
            "_view_module_version": "1.5.0",
            "_view_name": "HBoxView",
            "box_style": "",
            "children": [
              "IPY_MODEL_cfc183f559464446962fdbab74a1deda",
              "IPY_MODEL_0b0065d78db54596830e004fb48dcb5c",
              "IPY_MODEL_28af38d45d194aaea76889d34f554b12"
            ],
            "layout": "IPY_MODEL_52a737e2be2942e5bacb8f9b0589e04e"
          }
        },
        "cfc183f559464446962fdbab74a1deda": {
          "model_module": "@jupyter-widgets/controls",
          "model_name": "HTMLModel",
          "model_module_version": "1.5.0",
          "state": {
            "_dom_classes": [],
            "_model_module": "@jupyter-widgets/controls",
            "_model_module_version": "1.5.0",
            "_model_name": "HTMLModel",
            "_view_count": null,
            "_view_module": "@jupyter-widgets/controls",
            "_view_module_version": "1.5.0",
            "_view_name": "HTMLView",
            "description": "",
            "description_tooltip": null,
            "layout": "IPY_MODEL_6afee196f8154449b119bc90e5395a80",
            "placeholder": "​",
            "style": "IPY_MODEL_fc09499180f34b6c8bd1cbad5e2b4078",
            "value": "config.json: 100%"
          }
        },
        "0b0065d78db54596830e004fb48dcb5c": {
          "model_module": "@jupyter-widgets/controls",
          "model_name": "FloatProgressModel",
          "model_module_version": "1.5.0",
          "state": {
            "_dom_classes": [],
            "_model_module": "@jupyter-widgets/controls",
            "_model_module_version": "1.5.0",
            "_model_name": "FloatProgressModel",
            "_view_count": null,
            "_view_module": "@jupyter-widgets/controls",
            "_view_module_version": "1.5.0",
            "_view_name": "ProgressView",
            "bar_style": "success",
            "description": "",
            "description_tooltip": null,
            "layout": "IPY_MODEL_b9a01ed0a18340f7b6bb3d6ad6f531a5",
            "max": 965,
            "min": 0,
            "orientation": "horizontal",
            "style": "IPY_MODEL_61eb5d9e39c540d1aa1c7d7a1689b0b6",
            "value": 965
          }
        },
        "28af38d45d194aaea76889d34f554b12": {
          "model_module": "@jupyter-widgets/controls",
          "model_name": "HTMLModel",
          "model_module_version": "1.5.0",
          "state": {
            "_dom_classes": [],
            "_model_module": "@jupyter-widgets/controls",
            "_model_module_version": "1.5.0",
            "_model_name": "HTMLModel",
            "_view_count": null,
            "_view_module": "@jupyter-widgets/controls",
            "_view_module_version": "1.5.0",
            "_view_name": "HTMLView",
            "description": "",
            "description_tooltip": null,
            "layout": "IPY_MODEL_4335eee2ca984931bdd6b2df992cbf9a",
            "placeholder": "​",
            "style": "IPY_MODEL_6cc7eb26d2ee46abb98820486c7cfe19",
            "value": " 965/965 [00:00&lt;00:00, 35.8kB/s]"
          }
        },
        "52a737e2be2942e5bacb8f9b0589e04e": {
          "model_module": "@jupyter-widgets/base",
          "model_name": "LayoutModel",
          "model_module_version": "1.2.0",
          "state": {
            "_model_module": "@jupyter-widgets/base",
            "_model_module_version": "1.2.0",
            "_model_name": "LayoutModel",
            "_view_count": null,
            "_view_module": "@jupyter-widgets/base",
            "_view_module_version": "1.2.0",
            "_view_name": "LayoutView",
            "align_content": null,
            "align_items": null,
            "align_self": null,
            "border": null,
            "bottom": null,
            "display": null,
            "flex": null,
            "flex_flow": null,
            "grid_area": null,
            "grid_auto_columns": null,
            "grid_auto_flow": null,
            "grid_auto_rows": null,
            "grid_column": null,
            "grid_gap": null,
            "grid_row": null,
            "grid_template_areas": null,
            "grid_template_columns": null,
            "grid_template_rows": null,
            "height": null,
            "justify_content": null,
            "justify_items": null,
            "left": null,
            "margin": null,
            "max_height": null,
            "max_width": null,
            "min_height": null,
            "min_width": null,
            "object_fit": null,
            "object_position": null,
            "order": null,
            "overflow": null,
            "overflow_x": null,
            "overflow_y": null,
            "padding": null,
            "right": null,
            "top": null,
            "visibility": null,
            "width": null
          }
        },
        "6afee196f8154449b119bc90e5395a80": {
          "model_module": "@jupyter-widgets/base",
          "model_name": "LayoutModel",
          "model_module_version": "1.2.0",
          "state": {
            "_model_module": "@jupyter-widgets/base",
            "_model_module_version": "1.2.0",
            "_model_name": "LayoutModel",
            "_view_count": null,
            "_view_module": "@jupyter-widgets/base",
            "_view_module_version": "1.2.0",
            "_view_name": "LayoutView",
            "align_content": null,
            "align_items": null,
            "align_self": null,
            "border": null,
            "bottom": null,
            "display": null,
            "flex": null,
            "flex_flow": null,
            "grid_area": null,
            "grid_auto_columns": null,
            "grid_auto_flow": null,
            "grid_auto_rows": null,
            "grid_column": null,
            "grid_gap": null,
            "grid_row": null,
            "grid_template_areas": null,
            "grid_template_columns": null,
            "grid_template_rows": null,
            "height": null,
            "justify_content": null,
            "justify_items": null,
            "left": null,
            "margin": null,
            "max_height": null,
            "max_width": null,
            "min_height": null,
            "min_width": null,
            "object_fit": null,
            "object_position": null,
            "order": null,
            "overflow": null,
            "overflow_x": null,
            "overflow_y": null,
            "padding": null,
            "right": null,
            "top": null,
            "visibility": null,
            "width": null
          }
        },
        "fc09499180f34b6c8bd1cbad5e2b4078": {
          "model_module": "@jupyter-widgets/controls",
          "model_name": "DescriptionStyleModel",
          "model_module_version": "1.5.0",
          "state": {
            "_model_module": "@jupyter-widgets/controls",
            "_model_module_version": "1.5.0",
            "_model_name": "DescriptionStyleModel",
            "_view_count": null,
            "_view_module": "@jupyter-widgets/base",
            "_view_module_version": "1.2.0",
            "_view_name": "StyleView",
            "description_width": ""
          }
        },
        "b9a01ed0a18340f7b6bb3d6ad6f531a5": {
          "model_module": "@jupyter-widgets/base",
          "model_name": "LayoutModel",
          "model_module_version": "1.2.0",
          "state": {
            "_model_module": "@jupyter-widgets/base",
            "_model_module_version": "1.2.0",
            "_model_name": "LayoutModel",
            "_view_count": null,
            "_view_module": "@jupyter-widgets/base",
            "_view_module_version": "1.2.0",
            "_view_name": "LayoutView",
            "align_content": null,
            "align_items": null,
            "align_self": null,
            "border": null,
            "bottom": null,
            "display": null,
            "flex": null,
            "flex_flow": null,
            "grid_area": null,
            "grid_auto_columns": null,
            "grid_auto_flow": null,
            "grid_auto_rows": null,
            "grid_column": null,
            "grid_gap": null,
            "grid_row": null,
            "grid_template_areas": null,
            "grid_template_columns": null,
            "grid_template_rows": null,
            "height": null,
            "justify_content": null,
            "justify_items": null,
            "left": null,
            "margin": null,
            "max_height": null,
            "max_width": null,
            "min_height": null,
            "min_width": null,
            "object_fit": null,
            "object_position": null,
            "order": null,
            "overflow": null,
            "overflow_x": null,
            "overflow_y": null,
            "padding": null,
            "right": null,
            "top": null,
            "visibility": null,
            "width": null
          }
        },
        "61eb5d9e39c540d1aa1c7d7a1689b0b6": {
          "model_module": "@jupyter-widgets/controls",
          "model_name": "ProgressStyleModel",
          "model_module_version": "1.5.0",
          "state": {
            "_model_module": "@jupyter-widgets/controls",
            "_model_module_version": "1.5.0",
            "_model_name": "ProgressStyleModel",
            "_view_count": null,
            "_view_module": "@jupyter-widgets/base",
            "_view_module_version": "1.2.0",
            "_view_name": "StyleView",
            "bar_color": null,
            "description_width": ""
          }
        },
        "4335eee2ca984931bdd6b2df992cbf9a": {
          "model_module": "@jupyter-widgets/base",
          "model_name": "LayoutModel",
          "model_module_version": "1.2.0",
          "state": {
            "_model_module": "@jupyter-widgets/base",
            "_model_module_version": "1.2.0",
            "_model_name": "LayoutModel",
            "_view_count": null,
            "_view_module": "@jupyter-widgets/base",
            "_view_module_version": "1.2.0",
            "_view_name": "LayoutView",
            "align_content": null,
            "align_items": null,
            "align_self": null,
            "border": null,
            "bottom": null,
            "display": null,
            "flex": null,
            "flex_flow": null,
            "grid_area": null,
            "grid_auto_columns": null,
            "grid_auto_flow": null,
            "grid_auto_rows": null,
            "grid_column": null,
            "grid_gap": null,
            "grid_row": null,
            "grid_template_areas": null,
            "grid_template_columns": null,
            "grid_template_rows": null,
            "height": null,
            "justify_content": null,
            "justify_items": null,
            "left": null,
            "margin": null,
            "max_height": null,
            "max_width": null,
            "min_height": null,
            "min_width": null,
            "object_fit": null,
            "object_position": null,
            "order": null,
            "overflow": null,
            "overflow_x": null,
            "overflow_y": null,
            "padding": null,
            "right": null,
            "top": null,
            "visibility": null,
            "width": null
          }
        },
        "6cc7eb26d2ee46abb98820486c7cfe19": {
          "model_module": "@jupyter-widgets/controls",
          "model_name": "DescriptionStyleModel",
          "model_module_version": "1.5.0",
          "state": {
            "_model_module": "@jupyter-widgets/controls",
            "_model_module_version": "1.5.0",
            "_model_name": "DescriptionStyleModel",
            "_view_count": null,
            "_view_module": "@jupyter-widgets/base",
            "_view_module_version": "1.2.0",
            "_view_name": "StyleView",
            "description_width": ""
          }
        },
        "840116167fb5481f8ff1de98e723bc1b": {
          "model_module": "@jupyter-widgets/controls",
          "model_name": "HBoxModel",
          "model_module_version": "1.5.0",
          "state": {
            "_dom_classes": [],
            "_model_module": "@jupyter-widgets/controls",
            "_model_module_version": "1.5.0",
            "_model_name": "HBoxModel",
            "_view_count": null,
            "_view_module": "@jupyter-widgets/controls",
            "_view_module_version": "1.5.0",
            "_view_name": "HBoxView",
            "box_style": "",
            "children": [
              "IPY_MODEL_207fc72bcd484f24919f3743ac4602f7",
              "IPY_MODEL_1e2a27cbf7ad4f46b8af57cf21cb1bd3",
              "IPY_MODEL_e750d63d0d4149519d57b4e08e354c10"
            ],
            "layout": "IPY_MODEL_63657ead25bc4ab3afc0c83b744bef1c"
          }
        },
        "207fc72bcd484f24919f3743ac4602f7": {
          "model_module": "@jupyter-widgets/controls",
          "model_name": "HTMLModel",
          "model_module_version": "1.5.0",
          "state": {
            "_dom_classes": [],
            "_model_module": "@jupyter-widgets/controls",
            "_model_module_version": "1.5.0",
            "_model_name": "HTMLModel",
            "_view_count": null,
            "_view_module": "@jupyter-widgets/controls",
            "_view_module_version": "1.5.0",
            "_view_name": "HTMLView",
            "description": "",
            "description_tooltip": null,
            "layout": "IPY_MODEL_9116a787f54e47c2a8f04535ce7836f8",
            "placeholder": "​",
            "style": "IPY_MODEL_d67d5d98c06b4477a466950e3eb9a5d3",
            "value": "pytorch_model.bin: 100%"
          }
        },
        "1e2a27cbf7ad4f46b8af57cf21cb1bd3": {
          "model_module": "@jupyter-widgets/controls",
          "model_name": "FloatProgressModel",
          "model_module_version": "1.5.0",
          "state": {
            "_dom_classes": [],
            "_model_module": "@jupyter-widgets/controls",
            "_model_module_version": "1.5.0",
            "_model_name": "FloatProgressModel",
            "_view_count": null,
            "_view_module": "@jupyter-widgets/controls",
            "_view_module_version": "1.5.0",
            "_view_name": "ProgressView",
            "bar_style": "success",
            "description": "",
            "description_tooltip": null,
            "layout": "IPY_MODEL_36efd036584a4e368ac59237fdd32cf3",
            "max": 711488109,
            "min": 0,
            "orientation": "horizontal",
            "style": "IPY_MODEL_b51ca148b99448efbf7110b4b8832f27",
            "value": 711488109
          }
        },
        "e750d63d0d4149519d57b4e08e354c10": {
          "model_module": "@jupyter-widgets/controls",
          "model_name": "HTMLModel",
          "model_module_version": "1.5.0",
          "state": {
            "_dom_classes": [],
            "_model_module": "@jupyter-widgets/controls",
            "_model_module_version": "1.5.0",
            "_model_name": "HTMLModel",
            "_view_count": null,
            "_view_module": "@jupyter-widgets/controls",
            "_view_module_version": "1.5.0",
            "_view_name": "HTMLView",
            "description": "",
            "description_tooltip": null,
            "layout": "IPY_MODEL_e1e6400c9c55419da9734d2882024ccf",
            "placeholder": "​",
            "style": "IPY_MODEL_3c1b91693db044f9b111167e4c975da1",
            "value": " 711M/711M [00:31&lt;00:00, 21.8MB/s]"
          }
        },
        "63657ead25bc4ab3afc0c83b744bef1c": {
          "model_module": "@jupyter-widgets/base",
          "model_name": "LayoutModel",
          "model_module_version": "1.2.0",
          "state": {
            "_model_module": "@jupyter-widgets/base",
            "_model_module_version": "1.2.0",
            "_model_name": "LayoutModel",
            "_view_count": null,
            "_view_module": "@jupyter-widgets/base",
            "_view_module_version": "1.2.0",
            "_view_name": "LayoutView",
            "align_content": null,
            "align_items": null,
            "align_self": null,
            "border": null,
            "bottom": null,
            "display": null,
            "flex": null,
            "flex_flow": null,
            "grid_area": null,
            "grid_auto_columns": null,
            "grid_auto_flow": null,
            "grid_auto_rows": null,
            "grid_column": null,
            "grid_gap": null,
            "grid_row": null,
            "grid_template_areas": null,
            "grid_template_columns": null,
            "grid_template_rows": null,
            "height": null,
            "justify_content": null,
            "justify_items": null,
            "left": null,
            "margin": null,
            "max_height": null,
            "max_width": null,
            "min_height": null,
            "min_width": null,
            "object_fit": null,
            "object_position": null,
            "order": null,
            "overflow": null,
            "overflow_x": null,
            "overflow_y": null,
            "padding": null,
            "right": null,
            "top": null,
            "visibility": null,
            "width": null
          }
        },
        "9116a787f54e47c2a8f04535ce7836f8": {
          "model_module": "@jupyter-widgets/base",
          "model_name": "LayoutModel",
          "model_module_version": "1.2.0",
          "state": {
            "_model_module": "@jupyter-widgets/base",
            "_model_module_version": "1.2.0",
            "_model_name": "LayoutModel",
            "_view_count": null,
            "_view_module": "@jupyter-widgets/base",
            "_view_module_version": "1.2.0",
            "_view_name": "LayoutView",
            "align_content": null,
            "align_items": null,
            "align_self": null,
            "border": null,
            "bottom": null,
            "display": null,
            "flex": null,
            "flex_flow": null,
            "grid_area": null,
            "grid_auto_columns": null,
            "grid_auto_flow": null,
            "grid_auto_rows": null,
            "grid_column": null,
            "grid_gap": null,
            "grid_row": null,
            "grid_template_areas": null,
            "grid_template_columns": null,
            "grid_template_rows": null,
            "height": null,
            "justify_content": null,
            "justify_items": null,
            "left": null,
            "margin": null,
            "max_height": null,
            "max_width": null,
            "min_height": null,
            "min_width": null,
            "object_fit": null,
            "object_position": null,
            "order": null,
            "overflow": null,
            "overflow_x": null,
            "overflow_y": null,
            "padding": null,
            "right": null,
            "top": null,
            "visibility": null,
            "width": null
          }
        },
        "d67d5d98c06b4477a466950e3eb9a5d3": {
          "model_module": "@jupyter-widgets/controls",
          "model_name": "DescriptionStyleModel",
          "model_module_version": "1.5.0",
          "state": {
            "_model_module": "@jupyter-widgets/controls",
            "_model_module_version": "1.5.0",
            "_model_name": "DescriptionStyleModel",
            "_view_count": null,
            "_view_module": "@jupyter-widgets/base",
            "_view_module_version": "1.2.0",
            "_view_name": "StyleView",
            "description_width": ""
          }
        },
        "36efd036584a4e368ac59237fdd32cf3": {
          "model_module": "@jupyter-widgets/base",
          "model_name": "LayoutModel",
          "model_module_version": "1.2.0",
          "state": {
            "_model_module": "@jupyter-widgets/base",
            "_model_module_version": "1.2.0",
            "_model_name": "LayoutModel",
            "_view_count": null,
            "_view_module": "@jupyter-widgets/base",
            "_view_module_version": "1.2.0",
            "_view_name": "LayoutView",
            "align_content": null,
            "align_items": null,
            "align_self": null,
            "border": null,
            "bottom": null,
            "display": null,
            "flex": null,
            "flex_flow": null,
            "grid_area": null,
            "grid_auto_columns": null,
            "grid_auto_flow": null,
            "grid_auto_rows": null,
            "grid_column": null,
            "grid_gap": null,
            "grid_row": null,
            "grid_template_areas": null,
            "grid_template_columns": null,
            "grid_template_rows": null,
            "height": null,
            "justify_content": null,
            "justify_items": null,
            "left": null,
            "margin": null,
            "max_height": null,
            "max_width": null,
            "min_height": null,
            "min_width": null,
            "object_fit": null,
            "object_position": null,
            "order": null,
            "overflow": null,
            "overflow_x": null,
            "overflow_y": null,
            "padding": null,
            "right": null,
            "top": null,
            "visibility": null,
            "width": null
          }
        },
        "b51ca148b99448efbf7110b4b8832f27": {
          "model_module": "@jupyter-widgets/controls",
          "model_name": "ProgressStyleModel",
          "model_module_version": "1.5.0",
          "state": {
            "_model_module": "@jupyter-widgets/controls",
            "_model_module_version": "1.5.0",
            "_model_name": "ProgressStyleModel",
            "_view_count": null,
            "_view_module": "@jupyter-widgets/base",
            "_view_module_version": "1.2.0",
            "_view_name": "StyleView",
            "bar_color": null,
            "description_width": ""
          }
        },
        "e1e6400c9c55419da9734d2882024ccf": {
          "model_module": "@jupyter-widgets/base",
          "model_name": "LayoutModel",
          "model_module_version": "1.2.0",
          "state": {
            "_model_module": "@jupyter-widgets/base",
            "_model_module_version": "1.2.0",
            "_model_name": "LayoutModel",
            "_view_count": null,
            "_view_module": "@jupyter-widgets/base",
            "_view_module_version": "1.2.0",
            "_view_name": "LayoutView",
            "align_content": null,
            "align_items": null,
            "align_self": null,
            "border": null,
            "bottom": null,
            "display": null,
            "flex": null,
            "flex_flow": null,
            "grid_area": null,
            "grid_auto_columns": null,
            "grid_auto_flow": null,
            "grid_auto_rows": null,
            "grid_column": null,
            "grid_gap": null,
            "grid_row": null,
            "grid_template_areas": null,
            "grid_template_columns": null,
            "grid_template_rows": null,
            "height": null,
            "justify_content": null,
            "justify_items": null,
            "left": null,
            "margin": null,
            "max_height": null,
            "max_width": null,
            "min_height": null,
            "min_width": null,
            "object_fit": null,
            "object_position": null,
            "order": null,
            "overflow": null,
            "overflow_x": null,
            "overflow_y": null,
            "padding": null,
            "right": null,
            "top": null,
            "visibility": null,
            "width": null
          }
        },
        "3c1b91693db044f9b111167e4c975da1": {
          "model_module": "@jupyter-widgets/controls",
          "model_name": "DescriptionStyleModel",
          "model_module_version": "1.5.0",
          "state": {
            "_model_module": "@jupyter-widgets/controls",
            "_model_module_version": "1.5.0",
            "_model_name": "DescriptionStyleModel",
            "_view_count": null,
            "_view_module": "@jupyter-widgets/base",
            "_view_module_version": "1.2.0",
            "_view_name": "StyleView",
            "description_width": ""
          }
        },
        "d4656863e2cf4b818704cf7eafd406fe": {
          "model_module": "@jupyter-widgets/controls",
          "model_name": "HBoxModel",
          "model_module_version": "1.5.0",
          "state": {
            "_dom_classes": [],
            "_model_module": "@jupyter-widgets/controls",
            "_model_module_version": "1.5.0",
            "_model_name": "HBoxModel",
            "_view_count": null,
            "_view_module": "@jupyter-widgets/controls",
            "_view_module_version": "1.5.0",
            "_view_name": "HBoxView",
            "box_style": "",
            "children": [
              "IPY_MODEL_5c057a915f814c1bbf83d0113d80d795",
              "IPY_MODEL_482e9185b6ad4f0286d9c93140dda7f9",
              "IPY_MODEL_572ac2338ab640d9a34bc9d57f0e9f56"
            ],
            "layout": "IPY_MODEL_66c978eb62624e65b17bccc816b366fc"
          }
        },
        "5c057a915f814c1bbf83d0113d80d795": {
          "model_module": "@jupyter-widgets/controls",
          "model_name": "HTMLModel",
          "model_module_version": "1.5.0",
          "state": {
            "_dom_classes": [],
            "_model_module": "@jupyter-widgets/controls",
            "_model_module_version": "1.5.0",
            "_model_name": "HTMLModel",
            "_view_count": null,
            "_view_module": "@jupyter-widgets/controls",
            "_view_module_version": "1.5.0",
            "_view_name": "HTMLView",
            "description": "",
            "description_tooltip": null,
            "layout": "IPY_MODEL_9c43a6f097954b4c8100e24518adab37",
            "placeholder": "​",
            "style": "IPY_MODEL_e8d75740ed7f45dfa3207c097a52cf0b",
            "value": "tokenizer_config.json: 100%"
          }
        },
        "482e9185b6ad4f0286d9c93140dda7f9": {
          "model_module": "@jupyter-widgets/controls",
          "model_name": "FloatProgressModel",
          "model_module_version": "1.5.0",
          "state": {
            "_dom_classes": [],
            "_model_module": "@jupyter-widgets/controls",
            "_model_module_version": "1.5.0",
            "_model_name": "FloatProgressModel",
            "_view_count": null,
            "_view_module": "@jupyter-widgets/controls",
            "_view_module_version": "1.5.0",
            "_view_name": "ProgressView",
            "bar_style": "success",
            "description": "",
            "description_tooltip": null,
            "layout": "IPY_MODEL_059b8fdba89842c8bba39d9e3845a51d",
            "max": 437,
            "min": 0,
            "orientation": "horizontal",
            "style": "IPY_MODEL_58ce2b36b606498f80b5d58cb24b2467",
            "value": 437
          }
        },
        "572ac2338ab640d9a34bc9d57f0e9f56": {
          "model_module": "@jupyter-widgets/controls",
          "model_name": "HTMLModel",
          "model_module_version": "1.5.0",
          "state": {
            "_dom_classes": [],
            "_model_module": "@jupyter-widgets/controls",
            "_model_module_version": "1.5.0",
            "_model_name": "HTMLModel",
            "_view_count": null,
            "_view_module": "@jupyter-widgets/controls",
            "_view_module_version": "1.5.0",
            "_view_name": "HTMLView",
            "description": "",
            "description_tooltip": null,
            "layout": "IPY_MODEL_d134fb2bedb24499a5309d07bff0e6ec",
            "placeholder": "​",
            "style": "IPY_MODEL_f0629b9a38084ecaabf292a6f32889a4",
            "value": " 437/437 [00:00&lt;00:00, 21.5kB/s]"
          }
        },
        "66c978eb62624e65b17bccc816b366fc": {
          "model_module": "@jupyter-widgets/base",
          "model_name": "LayoutModel",
          "model_module_version": "1.2.0",
          "state": {
            "_model_module": "@jupyter-widgets/base",
            "_model_module_version": "1.2.0",
            "_model_name": "LayoutModel",
            "_view_count": null,
            "_view_module": "@jupyter-widgets/base",
            "_view_module_version": "1.2.0",
            "_view_name": "LayoutView",
            "align_content": null,
            "align_items": null,
            "align_self": null,
            "border": null,
            "bottom": null,
            "display": null,
            "flex": null,
            "flex_flow": null,
            "grid_area": null,
            "grid_auto_columns": null,
            "grid_auto_flow": null,
            "grid_auto_rows": null,
            "grid_column": null,
            "grid_gap": null,
            "grid_row": null,
            "grid_template_areas": null,
            "grid_template_columns": null,
            "grid_template_rows": null,
            "height": null,
            "justify_content": null,
            "justify_items": null,
            "left": null,
            "margin": null,
            "max_height": null,
            "max_width": null,
            "min_height": null,
            "min_width": null,
            "object_fit": null,
            "object_position": null,
            "order": null,
            "overflow": null,
            "overflow_x": null,
            "overflow_y": null,
            "padding": null,
            "right": null,
            "top": null,
            "visibility": null,
            "width": null
          }
        },
        "9c43a6f097954b4c8100e24518adab37": {
          "model_module": "@jupyter-widgets/base",
          "model_name": "LayoutModel",
          "model_module_version": "1.2.0",
          "state": {
            "_model_module": "@jupyter-widgets/base",
            "_model_module_version": "1.2.0",
            "_model_name": "LayoutModel",
            "_view_count": null,
            "_view_module": "@jupyter-widgets/base",
            "_view_module_version": "1.2.0",
            "_view_name": "LayoutView",
            "align_content": null,
            "align_items": null,
            "align_self": null,
            "border": null,
            "bottom": null,
            "display": null,
            "flex": null,
            "flex_flow": null,
            "grid_area": null,
            "grid_auto_columns": null,
            "grid_auto_flow": null,
            "grid_auto_rows": null,
            "grid_column": null,
            "grid_gap": null,
            "grid_row": null,
            "grid_template_areas": null,
            "grid_template_columns": null,
            "grid_template_rows": null,
            "height": null,
            "justify_content": null,
            "justify_items": null,
            "left": null,
            "margin": null,
            "max_height": null,
            "max_width": null,
            "min_height": null,
            "min_width": null,
            "object_fit": null,
            "object_position": null,
            "order": null,
            "overflow": null,
            "overflow_x": null,
            "overflow_y": null,
            "padding": null,
            "right": null,
            "top": null,
            "visibility": null,
            "width": null
          }
        },
        "e8d75740ed7f45dfa3207c097a52cf0b": {
          "model_module": "@jupyter-widgets/controls",
          "model_name": "DescriptionStyleModel",
          "model_module_version": "1.5.0",
          "state": {
            "_model_module": "@jupyter-widgets/controls",
            "_model_module_version": "1.5.0",
            "_model_name": "DescriptionStyleModel",
            "_view_count": null,
            "_view_module": "@jupyter-widgets/base",
            "_view_module_version": "1.2.0",
            "_view_name": "StyleView",
            "description_width": ""
          }
        },
        "059b8fdba89842c8bba39d9e3845a51d": {
          "model_module": "@jupyter-widgets/base",
          "model_name": "LayoutModel",
          "model_module_version": "1.2.0",
          "state": {
            "_model_module": "@jupyter-widgets/base",
            "_model_module_version": "1.2.0",
            "_model_name": "LayoutModel",
            "_view_count": null,
            "_view_module": "@jupyter-widgets/base",
            "_view_module_version": "1.2.0",
            "_view_name": "LayoutView",
            "align_content": null,
            "align_items": null,
            "align_self": null,
            "border": null,
            "bottom": null,
            "display": null,
            "flex": null,
            "flex_flow": null,
            "grid_area": null,
            "grid_auto_columns": null,
            "grid_auto_flow": null,
            "grid_auto_rows": null,
            "grid_column": null,
            "grid_gap": null,
            "grid_row": null,
            "grid_template_areas": null,
            "grid_template_columns": null,
            "grid_template_rows": null,
            "height": null,
            "justify_content": null,
            "justify_items": null,
            "left": null,
            "margin": null,
            "max_height": null,
            "max_width": null,
            "min_height": null,
            "min_width": null,
            "object_fit": null,
            "object_position": null,
            "order": null,
            "overflow": null,
            "overflow_x": null,
            "overflow_y": null,
            "padding": null,
            "right": null,
            "top": null,
            "visibility": null,
            "width": null
          }
        },
        "58ce2b36b606498f80b5d58cb24b2467": {
          "model_module": "@jupyter-widgets/controls",
          "model_name": "ProgressStyleModel",
          "model_module_version": "1.5.0",
          "state": {
            "_model_module": "@jupyter-widgets/controls",
            "_model_module_version": "1.5.0",
            "_model_name": "ProgressStyleModel",
            "_view_count": null,
            "_view_module": "@jupyter-widgets/base",
            "_view_module_version": "1.2.0",
            "_view_name": "StyleView",
            "bar_color": null,
            "description_width": ""
          }
        },
        "d134fb2bedb24499a5309d07bff0e6ec": {
          "model_module": "@jupyter-widgets/base",
          "model_name": "LayoutModel",
          "model_module_version": "1.2.0",
          "state": {
            "_model_module": "@jupyter-widgets/base",
            "_model_module_version": "1.2.0",
            "_model_name": "LayoutModel",
            "_view_count": null,
            "_view_module": "@jupyter-widgets/base",
            "_view_module_version": "1.2.0",
            "_view_name": "LayoutView",
            "align_content": null,
            "align_items": null,
            "align_self": null,
            "border": null,
            "bottom": null,
            "display": null,
            "flex": null,
            "flex_flow": null,
            "grid_area": null,
            "grid_auto_columns": null,
            "grid_auto_flow": null,
            "grid_auto_rows": null,
            "grid_column": null,
            "grid_gap": null,
            "grid_row": null,
            "grid_template_areas": null,
            "grid_template_columns": null,
            "grid_template_rows": null,
            "height": null,
            "justify_content": null,
            "justify_items": null,
            "left": null,
            "margin": null,
            "max_height": null,
            "max_width": null,
            "min_height": null,
            "min_width": null,
            "object_fit": null,
            "object_position": null,
            "order": null,
            "overflow": null,
            "overflow_x": null,
            "overflow_y": null,
            "padding": null,
            "right": null,
            "top": null,
            "visibility": null,
            "width": null
          }
        },
        "f0629b9a38084ecaabf292a6f32889a4": {
          "model_module": "@jupyter-widgets/controls",
          "model_name": "DescriptionStyleModel",
          "model_module_version": "1.5.0",
          "state": {
            "_model_module": "@jupyter-widgets/controls",
            "_model_module_version": "1.5.0",
            "_model_name": "DescriptionStyleModel",
            "_view_count": null,
            "_view_module": "@jupyter-widgets/base",
            "_view_module_version": "1.2.0",
            "_view_name": "StyleView",
            "description_width": ""
          }
        },
        "a369d4772afa457cad98a9354e723ad5": {
          "model_module": "@jupyter-widgets/controls",
          "model_name": "HBoxModel",
          "model_module_version": "1.5.0",
          "state": {
            "_dom_classes": [],
            "_model_module": "@jupyter-widgets/controls",
            "_model_module_version": "1.5.0",
            "_model_name": "HBoxModel",
            "_view_count": null,
            "_view_module": "@jupyter-widgets/controls",
            "_view_module_version": "1.5.0",
            "_view_name": "HBoxView",
            "box_style": "",
            "children": [
              "IPY_MODEL_f2fdae950da34e5cb3d747a8040b2340",
              "IPY_MODEL_b55ec54322004b6a83d90de50506562d",
              "IPY_MODEL_da64d58388f04dadbf0f759244688d78"
            ],
            "layout": "IPY_MODEL_e1d40fac158d437da501c4e06e8e2959"
          }
        },
        "f2fdae950da34e5cb3d747a8040b2340": {
          "model_module": "@jupyter-widgets/controls",
          "model_name": "HTMLModel",
          "model_module_version": "1.5.0",
          "state": {
            "_dom_classes": [],
            "_model_module": "@jupyter-widgets/controls",
            "_model_module_version": "1.5.0",
            "_model_name": "HTMLModel",
            "_view_count": null,
            "_view_module": "@jupyter-widgets/controls",
            "_view_module_version": "1.5.0",
            "_view_name": "HTMLView",
            "description": "",
            "description_tooltip": null,
            "layout": "IPY_MODEL_2bdd83c8888047a0b98ff4b88d1b5573",
            "placeholder": "​",
            "style": "IPY_MODEL_5c75887bf1db48b380bee61ec3572bde",
            "value": "vocab.txt: 100%"
          }
        },
        "b55ec54322004b6a83d90de50506562d": {
          "model_module": "@jupyter-widgets/controls",
          "model_name": "FloatProgressModel",
          "model_module_version": "1.5.0",
          "state": {
            "_dom_classes": [],
            "_model_module": "@jupyter-widgets/controls",
            "_model_module_version": "1.5.0",
            "_model_name": "FloatProgressModel",
            "_view_count": null,
            "_view_module": "@jupyter-widgets/controls",
            "_view_module_version": "1.5.0",
            "_view_name": "ProgressView",
            "bar_style": "success",
            "description": "",
            "description_tooltip": null,
            "layout": "IPY_MODEL_5cbfbb03f19e49faa7d9e1e2f290032b",
            "max": 1552337,
            "min": 0,
            "orientation": "horizontal",
            "style": "IPY_MODEL_bd3c819e81d342179373d9c619f1f37b",
            "value": 1552337
          }
        },
        "da64d58388f04dadbf0f759244688d78": {
          "model_module": "@jupyter-widgets/controls",
          "model_name": "HTMLModel",
          "model_module_version": "1.5.0",
          "state": {
            "_dom_classes": [],
            "_model_module": "@jupyter-widgets/controls",
            "_model_module_version": "1.5.0",
            "_model_name": "HTMLModel",
            "_view_count": null,
            "_view_module": "@jupyter-widgets/controls",
            "_view_module_version": "1.5.0",
            "_view_name": "HTMLView",
            "description": "",
            "description_tooltip": null,
            "layout": "IPY_MODEL_791d448d4dfb4c3cb36fc8458ca625c8",
            "placeholder": "​",
            "style": "IPY_MODEL_335ae2bd848949508a26f9704b6cb3b2",
            "value": " 1.55M/1.55M [00:00&lt;00:00, 68.7MB/s]"
          }
        },
        "e1d40fac158d437da501c4e06e8e2959": {
          "model_module": "@jupyter-widgets/base",
          "model_name": "LayoutModel",
          "model_module_version": "1.2.0",
          "state": {
            "_model_module": "@jupyter-widgets/base",
            "_model_module_version": "1.2.0",
            "_model_name": "LayoutModel",
            "_view_count": null,
            "_view_module": "@jupyter-widgets/base",
            "_view_module_version": "1.2.0",
            "_view_name": "LayoutView",
            "align_content": null,
            "align_items": null,
            "align_self": null,
            "border": null,
            "bottom": null,
            "display": null,
            "flex": null,
            "flex_flow": null,
            "grid_area": null,
            "grid_auto_columns": null,
            "grid_auto_flow": null,
            "grid_auto_rows": null,
            "grid_column": null,
            "grid_gap": null,
            "grid_row": null,
            "grid_template_areas": null,
            "grid_template_columns": null,
            "grid_template_rows": null,
            "height": null,
            "justify_content": null,
            "justify_items": null,
            "left": null,
            "margin": null,
            "max_height": null,
            "max_width": null,
            "min_height": null,
            "min_width": null,
            "object_fit": null,
            "object_position": null,
            "order": null,
            "overflow": null,
            "overflow_x": null,
            "overflow_y": null,
            "padding": null,
            "right": null,
            "top": null,
            "visibility": null,
            "width": null
          }
        },
        "2bdd83c8888047a0b98ff4b88d1b5573": {
          "model_module": "@jupyter-widgets/base",
          "model_name": "LayoutModel",
          "model_module_version": "1.2.0",
          "state": {
            "_model_module": "@jupyter-widgets/base",
            "_model_module_version": "1.2.0",
            "_model_name": "LayoutModel",
            "_view_count": null,
            "_view_module": "@jupyter-widgets/base",
            "_view_module_version": "1.2.0",
            "_view_name": "LayoutView",
            "align_content": null,
            "align_items": null,
            "align_self": null,
            "border": null,
            "bottom": null,
            "display": null,
            "flex": null,
            "flex_flow": null,
            "grid_area": null,
            "grid_auto_columns": null,
            "grid_auto_flow": null,
            "grid_auto_rows": null,
            "grid_column": null,
            "grid_gap": null,
            "grid_row": null,
            "grid_template_areas": null,
            "grid_template_columns": null,
            "grid_template_rows": null,
            "height": null,
            "justify_content": null,
            "justify_items": null,
            "left": null,
            "margin": null,
            "max_height": null,
            "max_width": null,
            "min_height": null,
            "min_width": null,
            "object_fit": null,
            "object_position": null,
            "order": null,
            "overflow": null,
            "overflow_x": null,
            "overflow_y": null,
            "padding": null,
            "right": null,
            "top": null,
            "visibility": null,
            "width": null
          }
        },
        "5c75887bf1db48b380bee61ec3572bde": {
          "model_module": "@jupyter-widgets/controls",
          "model_name": "DescriptionStyleModel",
          "model_module_version": "1.5.0",
          "state": {
            "_model_module": "@jupyter-widgets/controls",
            "_model_module_version": "1.5.0",
            "_model_name": "DescriptionStyleModel",
            "_view_count": null,
            "_view_module": "@jupyter-widgets/base",
            "_view_module_version": "1.2.0",
            "_view_name": "StyleView",
            "description_width": ""
          }
        },
        "5cbfbb03f19e49faa7d9e1e2f290032b": {
          "model_module": "@jupyter-widgets/base",
          "model_name": "LayoutModel",
          "model_module_version": "1.2.0",
          "state": {
            "_model_module": "@jupyter-widgets/base",
            "_model_module_version": "1.2.0",
            "_model_name": "LayoutModel",
            "_view_count": null,
            "_view_module": "@jupyter-widgets/base",
            "_view_module_version": "1.2.0",
            "_view_name": "LayoutView",
            "align_content": null,
            "align_items": null,
            "align_self": null,
            "border": null,
            "bottom": null,
            "display": null,
            "flex": null,
            "flex_flow": null,
            "grid_area": null,
            "grid_auto_columns": null,
            "grid_auto_flow": null,
            "grid_auto_rows": null,
            "grid_column": null,
            "grid_gap": null,
            "grid_row": null,
            "grid_template_areas": null,
            "grid_template_columns": null,
            "grid_template_rows": null,
            "height": null,
            "justify_content": null,
            "justify_items": null,
            "left": null,
            "margin": null,
            "max_height": null,
            "max_width": null,
            "min_height": null,
            "min_width": null,
            "object_fit": null,
            "object_position": null,
            "order": null,
            "overflow": null,
            "overflow_x": null,
            "overflow_y": null,
            "padding": null,
            "right": null,
            "top": null,
            "visibility": null,
            "width": null
          }
        },
        "bd3c819e81d342179373d9c619f1f37b": {
          "model_module": "@jupyter-widgets/controls",
          "model_name": "ProgressStyleModel",
          "model_module_version": "1.5.0",
          "state": {
            "_model_module": "@jupyter-widgets/controls",
            "_model_module_version": "1.5.0",
            "_model_name": "ProgressStyleModel",
            "_view_count": null,
            "_view_module": "@jupyter-widgets/base",
            "_view_module_version": "1.2.0",
            "_view_name": "StyleView",
            "bar_color": null,
            "description_width": ""
          }
        },
        "791d448d4dfb4c3cb36fc8458ca625c8": {
          "model_module": "@jupyter-widgets/base",
          "model_name": "LayoutModel",
          "model_module_version": "1.2.0",
          "state": {
            "_model_module": "@jupyter-widgets/base",
            "_model_module_version": "1.2.0",
            "_model_name": "LayoutModel",
            "_view_count": null,
            "_view_module": "@jupyter-widgets/base",
            "_view_module_version": "1.2.0",
            "_view_name": "LayoutView",
            "align_content": null,
            "align_items": null,
            "align_self": null,
            "border": null,
            "bottom": null,
            "display": null,
            "flex": null,
            "flex_flow": null,
            "grid_area": null,
            "grid_auto_columns": null,
            "grid_auto_flow": null,
            "grid_auto_rows": null,
            "grid_column": null,
            "grid_gap": null,
            "grid_row": null,
            "grid_template_areas": null,
            "grid_template_columns": null,
            "grid_template_rows": null,
            "height": null,
            "justify_content": null,
            "justify_items": null,
            "left": null,
            "margin": null,
            "max_height": null,
            "max_width": null,
            "min_height": null,
            "min_width": null,
            "object_fit": null,
            "object_position": null,
            "order": null,
            "overflow": null,
            "overflow_x": null,
            "overflow_y": null,
            "padding": null,
            "right": null,
            "top": null,
            "visibility": null,
            "width": null
          }
        },
        "335ae2bd848949508a26f9704b6cb3b2": {
          "model_module": "@jupyter-widgets/controls",
          "model_name": "DescriptionStyleModel",
          "model_module_version": "1.5.0",
          "state": {
            "_model_module": "@jupyter-widgets/controls",
            "_model_module_version": "1.5.0",
            "_model_name": "DescriptionStyleModel",
            "_view_count": null,
            "_view_module": "@jupyter-widgets/base",
            "_view_module_version": "1.2.0",
            "_view_name": "StyleView",
            "description_width": ""
          }
        },
        "f9695cd76465491dba2cedc75f2c772d": {
          "model_module": "@jupyter-widgets/controls",
          "model_name": "HBoxModel",
          "model_module_version": "1.5.0",
          "state": {
            "_dom_classes": [],
            "_model_module": "@jupyter-widgets/controls",
            "_model_module_version": "1.5.0",
            "_model_name": "HBoxModel",
            "_view_count": null,
            "_view_module": "@jupyter-widgets/controls",
            "_view_module_version": "1.5.0",
            "_view_name": "HBoxView",
            "box_style": "",
            "children": [
              "IPY_MODEL_2c0303ba386e433eafc387a11b13f0db",
              "IPY_MODEL_f2e8f547df554c9ba0aa9e917debb06e",
              "IPY_MODEL_072407c3826e43098a6ab3e4840ae360"
            ],
            "layout": "IPY_MODEL_505ea09449424df28c9bc4fa9e9c1d9f"
          }
        },
        "2c0303ba386e433eafc387a11b13f0db": {
          "model_module": "@jupyter-widgets/controls",
          "model_name": "HTMLModel",
          "model_module_version": "1.5.0",
          "state": {
            "_dom_classes": [],
            "_model_module": "@jupyter-widgets/controls",
            "_model_module_version": "1.5.0",
            "_model_name": "HTMLModel",
            "_view_count": null,
            "_view_module": "@jupyter-widgets/controls",
            "_view_module_version": "1.5.0",
            "_view_name": "HTMLView",
            "description": "",
            "description_tooltip": null,
            "layout": "IPY_MODEL_d83d0633c5a540ff92ac67897b843681",
            "placeholder": "​",
            "style": "IPY_MODEL_b8fcaaa9aacb48afa1174b14ba8b7dbc",
            "value": "special_tokens_map.json: 100%"
          }
        },
        "f2e8f547df554c9ba0aa9e917debb06e": {
          "model_module": "@jupyter-widgets/controls",
          "model_name": "FloatProgressModel",
          "model_module_version": "1.5.0",
          "state": {
            "_dom_classes": [],
            "_model_module": "@jupyter-widgets/controls",
            "_model_module_version": "1.5.0",
            "_model_name": "FloatProgressModel",
            "_view_count": null,
            "_view_module": "@jupyter-widgets/controls",
            "_view_module_version": "1.5.0",
            "_view_name": "ProgressView",
            "bar_style": "success",
            "description": "",
            "description_tooltip": null,
            "layout": "IPY_MODEL_b0651594141347c5a71086bfcf545039",
            "max": 125,
            "min": 0,
            "orientation": "horizontal",
            "style": "IPY_MODEL_d441d92d061e4ea7a829aea4ba8c9218",
            "value": 125
          }
        },
        "072407c3826e43098a6ab3e4840ae360": {
          "model_module": "@jupyter-widgets/controls",
          "model_name": "HTMLModel",
          "model_module_version": "1.5.0",
          "state": {
            "_dom_classes": [],
            "_model_module": "@jupyter-widgets/controls",
            "_model_module_version": "1.5.0",
            "_model_name": "HTMLModel",
            "_view_count": null,
            "_view_module": "@jupyter-widgets/controls",
            "_view_module_version": "1.5.0",
            "_view_name": "HTMLView",
            "description": "",
            "description_tooltip": null,
            "layout": "IPY_MODEL_d0007b44b4a84a1d93110db13754a8a1",
            "placeholder": "​",
            "style": "IPY_MODEL_fbc7f856fadc4a6bad977ef38674b4fd",
            "value": " 125/125 [00:00&lt;00:00, 8.38kB/s]"
          }
        },
        "505ea09449424df28c9bc4fa9e9c1d9f": {
          "model_module": "@jupyter-widgets/base",
          "model_name": "LayoutModel",
          "model_module_version": "1.2.0",
          "state": {
            "_model_module": "@jupyter-widgets/base",
            "_model_module_version": "1.2.0",
            "_model_name": "LayoutModel",
            "_view_count": null,
            "_view_module": "@jupyter-widgets/base",
            "_view_module_version": "1.2.0",
            "_view_name": "LayoutView",
            "align_content": null,
            "align_items": null,
            "align_self": null,
            "border": null,
            "bottom": null,
            "display": null,
            "flex": null,
            "flex_flow": null,
            "grid_area": null,
            "grid_auto_columns": null,
            "grid_auto_flow": null,
            "grid_auto_rows": null,
            "grid_column": null,
            "grid_gap": null,
            "grid_row": null,
            "grid_template_areas": null,
            "grid_template_columns": null,
            "grid_template_rows": null,
            "height": null,
            "justify_content": null,
            "justify_items": null,
            "left": null,
            "margin": null,
            "max_height": null,
            "max_width": null,
            "min_height": null,
            "min_width": null,
            "object_fit": null,
            "object_position": null,
            "order": null,
            "overflow": null,
            "overflow_x": null,
            "overflow_y": null,
            "padding": null,
            "right": null,
            "top": null,
            "visibility": null,
            "width": null
          }
        },
        "d83d0633c5a540ff92ac67897b843681": {
          "model_module": "@jupyter-widgets/base",
          "model_name": "LayoutModel",
          "model_module_version": "1.2.0",
          "state": {
            "_model_module": "@jupyter-widgets/base",
            "_model_module_version": "1.2.0",
            "_model_name": "LayoutModel",
            "_view_count": null,
            "_view_module": "@jupyter-widgets/base",
            "_view_module_version": "1.2.0",
            "_view_name": "LayoutView",
            "align_content": null,
            "align_items": null,
            "align_self": null,
            "border": null,
            "bottom": null,
            "display": null,
            "flex": null,
            "flex_flow": null,
            "grid_area": null,
            "grid_auto_columns": null,
            "grid_auto_flow": null,
            "grid_auto_rows": null,
            "grid_column": null,
            "grid_gap": null,
            "grid_row": null,
            "grid_template_areas": null,
            "grid_template_columns": null,
            "grid_template_rows": null,
            "height": null,
            "justify_content": null,
            "justify_items": null,
            "left": null,
            "margin": null,
            "max_height": null,
            "max_width": null,
            "min_height": null,
            "min_width": null,
            "object_fit": null,
            "object_position": null,
            "order": null,
            "overflow": null,
            "overflow_x": null,
            "overflow_y": null,
            "padding": null,
            "right": null,
            "top": null,
            "visibility": null,
            "width": null
          }
        },
        "b8fcaaa9aacb48afa1174b14ba8b7dbc": {
          "model_module": "@jupyter-widgets/controls",
          "model_name": "DescriptionStyleModel",
          "model_module_version": "1.5.0",
          "state": {
            "_model_module": "@jupyter-widgets/controls",
            "_model_module_version": "1.5.0",
            "_model_name": "DescriptionStyleModel",
            "_view_count": null,
            "_view_module": "@jupyter-widgets/base",
            "_view_module_version": "1.2.0",
            "_view_name": "StyleView",
            "description_width": ""
          }
        },
        "b0651594141347c5a71086bfcf545039": {
          "model_module": "@jupyter-widgets/base",
          "model_name": "LayoutModel",
          "model_module_version": "1.2.0",
          "state": {
            "_model_module": "@jupyter-widgets/base",
            "_model_module_version": "1.2.0",
            "_model_name": "LayoutModel",
            "_view_count": null,
            "_view_module": "@jupyter-widgets/base",
            "_view_module_version": "1.2.0",
            "_view_name": "LayoutView",
            "align_content": null,
            "align_items": null,
            "align_self": null,
            "border": null,
            "bottom": null,
            "display": null,
            "flex": null,
            "flex_flow": null,
            "grid_area": null,
            "grid_auto_columns": null,
            "grid_auto_flow": null,
            "grid_auto_rows": null,
            "grid_column": null,
            "grid_gap": null,
            "grid_row": null,
            "grid_template_areas": null,
            "grid_template_columns": null,
            "grid_template_rows": null,
            "height": null,
            "justify_content": null,
            "justify_items": null,
            "left": null,
            "margin": null,
            "max_height": null,
            "max_width": null,
            "min_height": null,
            "min_width": null,
            "object_fit": null,
            "object_position": null,
            "order": null,
            "overflow": null,
            "overflow_x": null,
            "overflow_y": null,
            "padding": null,
            "right": null,
            "top": null,
            "visibility": null,
            "width": null
          }
        },
        "d441d92d061e4ea7a829aea4ba8c9218": {
          "model_module": "@jupyter-widgets/controls",
          "model_name": "ProgressStyleModel",
          "model_module_version": "1.5.0",
          "state": {
            "_model_module": "@jupyter-widgets/controls",
            "_model_module_version": "1.5.0",
            "_model_name": "ProgressStyleModel",
            "_view_count": null,
            "_view_module": "@jupyter-widgets/base",
            "_view_module_version": "1.2.0",
            "_view_name": "StyleView",
            "bar_color": null,
            "description_width": ""
          }
        },
        "d0007b44b4a84a1d93110db13754a8a1": {
          "model_module": "@jupyter-widgets/base",
          "model_name": "LayoutModel",
          "model_module_version": "1.2.0",
          "state": {
            "_model_module": "@jupyter-widgets/base",
            "_model_module_version": "1.2.0",
            "_model_name": "LayoutModel",
            "_view_count": null,
            "_view_module": "@jupyter-widgets/base",
            "_view_module_version": "1.2.0",
            "_view_name": "LayoutView",
            "align_content": null,
            "align_items": null,
            "align_self": null,
            "border": null,
            "bottom": null,
            "display": null,
            "flex": null,
            "flex_flow": null,
            "grid_area": null,
            "grid_auto_columns": null,
            "grid_auto_flow": null,
            "grid_auto_rows": null,
            "grid_column": null,
            "grid_gap": null,
            "grid_row": null,
            "grid_template_areas": null,
            "grid_template_columns": null,
            "grid_template_rows": null,
            "height": null,
            "justify_content": null,
            "justify_items": null,
            "left": null,
            "margin": null,
            "max_height": null,
            "max_width": null,
            "min_height": null,
            "min_width": null,
            "object_fit": null,
            "object_position": null,
            "order": null,
            "overflow": null,
            "overflow_x": null,
            "overflow_y": null,
            "padding": null,
            "right": null,
            "top": null,
            "visibility": null,
            "width": null
          }
        },
        "fbc7f856fadc4a6bad977ef38674b4fd": {
          "model_module": "@jupyter-widgets/controls",
          "model_name": "DescriptionStyleModel",
          "model_module_version": "1.5.0",
          "state": {
            "_model_module": "@jupyter-widgets/controls",
            "_model_module_version": "1.5.0",
            "_model_name": "DescriptionStyleModel",
            "_view_count": null,
            "_view_module": "@jupyter-widgets/base",
            "_view_module_version": "1.2.0",
            "_view_name": "StyleView",
            "description_width": ""
          }
        },
        "4e3a560f9d1a411bad66a689cf93971a": {
          "model_module": "@jupyter-widgets/controls",
          "model_name": "HBoxModel",
          "model_module_version": "1.5.0",
          "state": {
            "_dom_classes": [],
            "_model_module": "@jupyter-widgets/controls",
            "_model_module_version": "1.5.0",
            "_model_name": "HBoxModel",
            "_view_count": null,
            "_view_module": "@jupyter-widgets/controls",
            "_view_module_version": "1.5.0",
            "_view_name": "HBoxView",
            "box_style": "",
            "children": [
              "IPY_MODEL_b8bc776dbc054eac97aa22fa3c8d1040",
              "IPY_MODEL_f3b3a1d723274fab8a7b429ad224d1db",
              "IPY_MODEL_b76dd718655e4fa38edb005facf57ab2"
            ],
            "layout": "IPY_MODEL_9adfcae038ff49ae84e76afbca61154b"
          }
        },
        "b8bc776dbc054eac97aa22fa3c8d1040": {
          "model_module": "@jupyter-widgets/controls",
          "model_name": "HTMLModel",
          "model_module_version": "1.5.0",
          "state": {
            "_dom_classes": [],
            "_model_module": "@jupyter-widgets/controls",
            "_model_module_version": "1.5.0",
            "_model_name": "HTMLModel",
            "_view_count": null,
            "_view_module": "@jupyter-widgets/controls",
            "_view_module_version": "1.5.0",
            "_view_name": "HTMLView",
            "description": "",
            "description_tooltip": null,
            "layout": "IPY_MODEL_1ceb53293bf248d8904fb1be5026f6f5",
            "placeholder": "​",
            "style": "IPY_MODEL_8eca13fc5759423db05f9e76db57d479",
            "value": "tokenizer.json: 100%"
          }
        },
        "f3b3a1d723274fab8a7b429ad224d1db": {
          "model_module": "@jupyter-widgets/controls",
          "model_name": "FloatProgressModel",
          "model_module_version": "1.5.0",
          "state": {
            "_dom_classes": [],
            "_model_module": "@jupyter-widgets/controls",
            "_model_module_version": "1.5.0",
            "_model_name": "FloatProgressModel",
            "_view_count": null,
            "_view_module": "@jupyter-widgets/controls",
            "_view_module_version": "1.5.0",
            "_view_name": "ProgressView",
            "bar_style": "success",
            "description": "",
            "description_tooltip": null,
            "layout": "IPY_MODEL_46000bfc18354b609a8e815686dfd7bf",
            "max": 3476297,
            "min": 0,
            "orientation": "horizontal",
            "style": "IPY_MODEL_9740ae227698463794120093ca176b7b",
            "value": 3476297
          }
        },
        "b76dd718655e4fa38edb005facf57ab2": {
          "model_module": "@jupyter-widgets/controls",
          "model_name": "HTMLModel",
          "model_module_version": "1.5.0",
          "state": {
            "_dom_classes": [],
            "_model_module": "@jupyter-widgets/controls",
            "_model_module_version": "1.5.0",
            "_model_name": "HTMLModel",
            "_view_count": null,
            "_view_module": "@jupyter-widgets/controls",
            "_view_module_version": "1.5.0",
            "_view_name": "HTMLView",
            "description": "",
            "description_tooltip": null,
            "layout": "IPY_MODEL_5fa045e4d9f747cfb7994beef3e327df",
            "placeholder": "​",
            "style": "IPY_MODEL_d87a438dca404c199f3d4a764a80bfc2",
            "value": " 3.48M/3.48M [00:01&lt;00:00, 3.22MB/s]"
          }
        },
        "9adfcae038ff49ae84e76afbca61154b": {
          "model_module": "@jupyter-widgets/base",
          "model_name": "LayoutModel",
          "model_module_version": "1.2.0",
          "state": {
            "_model_module": "@jupyter-widgets/base",
            "_model_module_version": "1.2.0",
            "_model_name": "LayoutModel",
            "_view_count": null,
            "_view_module": "@jupyter-widgets/base",
            "_view_module_version": "1.2.0",
            "_view_name": "LayoutView",
            "align_content": null,
            "align_items": null,
            "align_self": null,
            "border": null,
            "bottom": null,
            "display": null,
            "flex": null,
            "flex_flow": null,
            "grid_area": null,
            "grid_auto_columns": null,
            "grid_auto_flow": null,
            "grid_auto_rows": null,
            "grid_column": null,
            "grid_gap": null,
            "grid_row": null,
            "grid_template_areas": null,
            "grid_template_columns": null,
            "grid_template_rows": null,
            "height": null,
            "justify_content": null,
            "justify_items": null,
            "left": null,
            "margin": null,
            "max_height": null,
            "max_width": null,
            "min_height": null,
            "min_width": null,
            "object_fit": null,
            "object_position": null,
            "order": null,
            "overflow": null,
            "overflow_x": null,
            "overflow_y": null,
            "padding": null,
            "right": null,
            "top": null,
            "visibility": null,
            "width": null
          }
        },
        "1ceb53293bf248d8904fb1be5026f6f5": {
          "model_module": "@jupyter-widgets/base",
          "model_name": "LayoutModel",
          "model_module_version": "1.2.0",
          "state": {
            "_model_module": "@jupyter-widgets/base",
            "_model_module_version": "1.2.0",
            "_model_name": "LayoutModel",
            "_view_count": null,
            "_view_module": "@jupyter-widgets/base",
            "_view_module_version": "1.2.0",
            "_view_name": "LayoutView",
            "align_content": null,
            "align_items": null,
            "align_self": null,
            "border": null,
            "bottom": null,
            "display": null,
            "flex": null,
            "flex_flow": null,
            "grid_area": null,
            "grid_auto_columns": null,
            "grid_auto_flow": null,
            "grid_auto_rows": null,
            "grid_column": null,
            "grid_gap": null,
            "grid_row": null,
            "grid_template_areas": null,
            "grid_template_columns": null,
            "grid_template_rows": null,
            "height": null,
            "justify_content": null,
            "justify_items": null,
            "left": null,
            "margin": null,
            "max_height": null,
            "max_width": null,
            "min_height": null,
            "min_width": null,
            "object_fit": null,
            "object_position": null,
            "order": null,
            "overflow": null,
            "overflow_x": null,
            "overflow_y": null,
            "padding": null,
            "right": null,
            "top": null,
            "visibility": null,
            "width": null
          }
        },
        "8eca13fc5759423db05f9e76db57d479": {
          "model_module": "@jupyter-widgets/controls",
          "model_name": "DescriptionStyleModel",
          "model_module_version": "1.5.0",
          "state": {
            "_model_module": "@jupyter-widgets/controls",
            "_model_module_version": "1.5.0",
            "_model_name": "DescriptionStyleModel",
            "_view_count": null,
            "_view_module": "@jupyter-widgets/base",
            "_view_module_version": "1.2.0",
            "_view_name": "StyleView",
            "description_width": ""
          }
        },
        "46000bfc18354b609a8e815686dfd7bf": {
          "model_module": "@jupyter-widgets/base",
          "model_name": "LayoutModel",
          "model_module_version": "1.2.0",
          "state": {
            "_model_module": "@jupyter-widgets/base",
            "_model_module_version": "1.2.0",
            "_model_name": "LayoutModel",
            "_view_count": null,
            "_view_module": "@jupyter-widgets/base",
            "_view_module_version": "1.2.0",
            "_view_name": "LayoutView",
            "align_content": null,
            "align_items": null,
            "align_self": null,
            "border": null,
            "bottom": null,
            "display": null,
            "flex": null,
            "flex_flow": null,
            "grid_area": null,
            "grid_auto_columns": null,
            "grid_auto_flow": null,
            "grid_auto_rows": null,
            "grid_column": null,
            "grid_gap": null,
            "grid_row": null,
            "grid_template_areas": null,
            "grid_template_columns": null,
            "grid_template_rows": null,
            "height": null,
            "justify_content": null,
            "justify_items": null,
            "left": null,
            "margin": null,
            "max_height": null,
            "max_width": null,
            "min_height": null,
            "min_width": null,
            "object_fit": null,
            "object_position": null,
            "order": null,
            "overflow": null,
            "overflow_x": null,
            "overflow_y": null,
            "padding": null,
            "right": null,
            "top": null,
            "visibility": null,
            "width": null
          }
        },
        "9740ae227698463794120093ca176b7b": {
          "model_module": "@jupyter-widgets/controls",
          "model_name": "ProgressStyleModel",
          "model_module_version": "1.5.0",
          "state": {
            "_model_module": "@jupyter-widgets/controls",
            "_model_module_version": "1.5.0",
            "_model_name": "ProgressStyleModel",
            "_view_count": null,
            "_view_module": "@jupyter-widgets/base",
            "_view_module_version": "1.2.0",
            "_view_name": "StyleView",
            "bar_color": null,
            "description_width": ""
          }
        },
        "5fa045e4d9f747cfb7994beef3e327df": {
          "model_module": "@jupyter-widgets/base",
          "model_name": "LayoutModel",
          "model_module_version": "1.2.0",
          "state": {
            "_model_module": "@jupyter-widgets/base",
            "_model_module_version": "1.2.0",
            "_model_name": "LayoutModel",
            "_view_count": null,
            "_view_module": "@jupyter-widgets/base",
            "_view_module_version": "1.2.0",
            "_view_name": "LayoutView",
            "align_content": null,
            "align_items": null,
            "align_self": null,
            "border": null,
            "bottom": null,
            "display": null,
            "flex": null,
            "flex_flow": null,
            "grid_area": null,
            "grid_auto_columns": null,
            "grid_auto_flow": null,
            "grid_auto_rows": null,
            "grid_column": null,
            "grid_gap": null,
            "grid_row": null,
            "grid_template_areas": null,
            "grid_template_columns": null,
            "grid_template_rows": null,
            "height": null,
            "justify_content": null,
            "justify_items": null,
            "left": null,
            "margin": null,
            "max_height": null,
            "max_width": null,
            "min_height": null,
            "min_width": null,
            "object_fit": null,
            "object_position": null,
            "order": null,
            "overflow": null,
            "overflow_x": null,
            "overflow_y": null,
            "padding": null,
            "right": null,
            "top": null,
            "visibility": null,
            "width": null
          }
        },
        "d87a438dca404c199f3d4a764a80bfc2": {
          "model_module": "@jupyter-widgets/controls",
          "model_name": "DescriptionStyleModel",
          "model_module_version": "1.5.0",
          "state": {
            "_model_module": "@jupyter-widgets/controls",
            "_model_module_version": "1.5.0",
            "_model_name": "DescriptionStyleModel",
            "_view_count": null,
            "_view_module": "@jupyter-widgets/base",
            "_view_module_version": "1.2.0",
            "_view_name": "StyleView",
            "description_width": ""
          }
        },
        "742ccede0ac743bb87c254740c5ab8cc": {
          "model_module": "@jupyter-widgets/controls",
          "model_name": "HBoxModel",
          "model_module_version": "1.5.0",
          "state": {
            "_dom_classes": [],
            "_model_module": "@jupyter-widgets/controls",
            "_model_module_version": "1.5.0",
            "_model_name": "HBoxModel",
            "_view_count": null,
            "_view_module": "@jupyter-widgets/controls",
            "_view_module_version": "1.5.0",
            "_view_name": "HBoxView",
            "box_style": "",
            "children": [
              "IPY_MODEL_b5cd3b9c3c1d4be6bfd281e0666db83f",
              "IPY_MODEL_2f51199130db4eefab2f5e5d2261d970",
              "IPY_MODEL_62005cec1cb44051b374827ab96ad5f0"
            ],
            "layout": "IPY_MODEL_40fa4b1d58304a9aaa862923084fffa3"
          }
        },
        "b5cd3b9c3c1d4be6bfd281e0666db83f": {
          "model_module": "@jupyter-widgets/controls",
          "model_name": "HTMLModel",
          "model_module_version": "1.5.0",
          "state": {
            "_dom_classes": [],
            "_model_module": "@jupyter-widgets/controls",
            "_model_module_version": "1.5.0",
            "_model_name": "HTMLModel",
            "_view_count": null,
            "_view_module": "@jupyter-widgets/controls",
            "_view_module_version": "1.5.0",
            "_view_name": "HTMLView",
            "description": "",
            "description_tooltip": null,
            "layout": "IPY_MODEL_a2ca4c90b8954ab2900b86c3b090564c",
            "placeholder": "​",
            "style": "IPY_MODEL_a29bbb808fa04f79a8d1eba2c316c603",
            "value": "Upload 2 LFS files: 100%"
          }
        },
        "2f51199130db4eefab2f5e5d2261d970": {
          "model_module": "@jupyter-widgets/controls",
          "model_name": "FloatProgressModel",
          "model_module_version": "1.5.0",
          "state": {
            "_dom_classes": [],
            "_model_module": "@jupyter-widgets/controls",
            "_model_module_version": "1.5.0",
            "_model_name": "FloatProgressModel",
            "_view_count": null,
            "_view_module": "@jupyter-widgets/controls",
            "_view_module_version": "1.5.0",
            "_view_name": "ProgressView",
            "bar_style": "success",
            "description": "",
            "description_tooltip": null,
            "layout": "IPY_MODEL_d6b0dbbbfb6345b992ce350dbcbb875e",
            "max": 2,
            "min": 0,
            "orientation": "horizontal",
            "style": "IPY_MODEL_bada00be22ed493d90fa67b96a4e5467",
            "value": 2
          }
        },
        "62005cec1cb44051b374827ab96ad5f0": {
          "model_module": "@jupyter-widgets/controls",
          "model_name": "HTMLModel",
          "model_module_version": "1.5.0",
          "state": {
            "_dom_classes": [],
            "_model_module": "@jupyter-widgets/controls",
            "_model_module_version": "1.5.0",
            "_model_name": "HTMLModel",
            "_view_count": null,
            "_view_module": "@jupyter-widgets/controls",
            "_view_module_version": "1.5.0",
            "_view_name": "HTMLView",
            "description": "",
            "description_tooltip": null,
            "layout": "IPY_MODEL_c83c0f1b1c17451bab67da44c9f26693",
            "placeholder": "​",
            "style": "IPY_MODEL_c74b0388505b40d5b431d6591cac1bad",
            "value": " 2/2 [00:53&lt;00:00, 53.15s/it]"
          }
        },
        "40fa4b1d58304a9aaa862923084fffa3": {
          "model_module": "@jupyter-widgets/base",
          "model_name": "LayoutModel",
          "model_module_version": "1.2.0",
          "state": {
            "_model_module": "@jupyter-widgets/base",
            "_model_module_version": "1.2.0",
            "_model_name": "LayoutModel",
            "_view_count": null,
            "_view_module": "@jupyter-widgets/base",
            "_view_module_version": "1.2.0",
            "_view_name": "LayoutView",
            "align_content": null,
            "align_items": null,
            "align_self": null,
            "border": null,
            "bottom": null,
            "display": null,
            "flex": null,
            "flex_flow": null,
            "grid_area": null,
            "grid_auto_columns": null,
            "grid_auto_flow": null,
            "grid_auto_rows": null,
            "grid_column": null,
            "grid_gap": null,
            "grid_row": null,
            "grid_template_areas": null,
            "grid_template_columns": null,
            "grid_template_rows": null,
            "height": null,
            "justify_content": null,
            "justify_items": null,
            "left": null,
            "margin": null,
            "max_height": null,
            "max_width": null,
            "min_height": null,
            "min_width": null,
            "object_fit": null,
            "object_position": null,
            "order": null,
            "overflow": null,
            "overflow_x": null,
            "overflow_y": null,
            "padding": null,
            "right": null,
            "top": null,
            "visibility": null,
            "width": null
          }
        },
        "a2ca4c90b8954ab2900b86c3b090564c": {
          "model_module": "@jupyter-widgets/base",
          "model_name": "LayoutModel",
          "model_module_version": "1.2.0",
          "state": {
            "_model_module": "@jupyter-widgets/base",
            "_model_module_version": "1.2.0",
            "_model_name": "LayoutModel",
            "_view_count": null,
            "_view_module": "@jupyter-widgets/base",
            "_view_module_version": "1.2.0",
            "_view_name": "LayoutView",
            "align_content": null,
            "align_items": null,
            "align_self": null,
            "border": null,
            "bottom": null,
            "display": null,
            "flex": null,
            "flex_flow": null,
            "grid_area": null,
            "grid_auto_columns": null,
            "grid_auto_flow": null,
            "grid_auto_rows": null,
            "grid_column": null,
            "grid_gap": null,
            "grid_row": null,
            "grid_template_areas": null,
            "grid_template_columns": null,
            "grid_template_rows": null,
            "height": null,
            "justify_content": null,
            "justify_items": null,
            "left": null,
            "margin": null,
            "max_height": null,
            "max_width": null,
            "min_height": null,
            "min_width": null,
            "object_fit": null,
            "object_position": null,
            "order": null,
            "overflow": null,
            "overflow_x": null,
            "overflow_y": null,
            "padding": null,
            "right": null,
            "top": null,
            "visibility": null,
            "width": null
          }
        },
        "a29bbb808fa04f79a8d1eba2c316c603": {
          "model_module": "@jupyter-widgets/controls",
          "model_name": "DescriptionStyleModel",
          "model_module_version": "1.5.0",
          "state": {
            "_model_module": "@jupyter-widgets/controls",
            "_model_module_version": "1.5.0",
            "_model_name": "DescriptionStyleModel",
            "_view_count": null,
            "_view_module": "@jupyter-widgets/base",
            "_view_module_version": "1.2.0",
            "_view_name": "StyleView",
            "description_width": ""
          }
        },
        "d6b0dbbbfb6345b992ce350dbcbb875e": {
          "model_module": "@jupyter-widgets/base",
          "model_name": "LayoutModel",
          "model_module_version": "1.2.0",
          "state": {
            "_model_module": "@jupyter-widgets/base",
            "_model_module_version": "1.2.0",
            "_model_name": "LayoutModel",
            "_view_count": null,
            "_view_module": "@jupyter-widgets/base",
            "_view_module_version": "1.2.0",
            "_view_name": "LayoutView",
            "align_content": null,
            "align_items": null,
            "align_self": null,
            "border": null,
            "bottom": null,
            "display": null,
            "flex": null,
            "flex_flow": null,
            "grid_area": null,
            "grid_auto_columns": null,
            "grid_auto_flow": null,
            "grid_auto_rows": null,
            "grid_column": null,
            "grid_gap": null,
            "grid_row": null,
            "grid_template_areas": null,
            "grid_template_columns": null,
            "grid_template_rows": null,
            "height": null,
            "justify_content": null,
            "justify_items": null,
            "left": null,
            "margin": null,
            "max_height": null,
            "max_width": null,
            "min_height": null,
            "min_width": null,
            "object_fit": null,
            "object_position": null,
            "order": null,
            "overflow": null,
            "overflow_x": null,
            "overflow_y": null,
            "padding": null,
            "right": null,
            "top": null,
            "visibility": null,
            "width": null
          }
        },
        "bada00be22ed493d90fa67b96a4e5467": {
          "model_module": "@jupyter-widgets/controls",
          "model_name": "ProgressStyleModel",
          "model_module_version": "1.5.0",
          "state": {
            "_model_module": "@jupyter-widgets/controls",
            "_model_module_version": "1.5.0",
            "_model_name": "ProgressStyleModel",
            "_view_count": null,
            "_view_module": "@jupyter-widgets/base",
            "_view_module_version": "1.2.0",
            "_view_name": "StyleView",
            "bar_color": null,
            "description_width": ""
          }
        },
        "c83c0f1b1c17451bab67da44c9f26693": {
          "model_module": "@jupyter-widgets/base",
          "model_name": "LayoutModel",
          "model_module_version": "1.2.0",
          "state": {
            "_model_module": "@jupyter-widgets/base",
            "_model_module_version": "1.2.0",
            "_model_name": "LayoutModel",
            "_view_count": null,
            "_view_module": "@jupyter-widgets/base",
            "_view_module_version": "1.2.0",
            "_view_name": "LayoutView",
            "align_content": null,
            "align_items": null,
            "align_self": null,
            "border": null,
            "bottom": null,
            "display": null,
            "flex": null,
            "flex_flow": null,
            "grid_area": null,
            "grid_auto_columns": null,
            "grid_auto_flow": null,
            "grid_auto_rows": null,
            "grid_column": null,
            "grid_gap": null,
            "grid_row": null,
            "grid_template_areas": null,
            "grid_template_columns": null,
            "grid_template_rows": null,
            "height": null,
            "justify_content": null,
            "justify_items": null,
            "left": null,
            "margin": null,
            "max_height": null,
            "max_width": null,
            "min_height": null,
            "min_width": null,
            "object_fit": null,
            "object_position": null,
            "order": null,
            "overflow": null,
            "overflow_x": null,
            "overflow_y": null,
            "padding": null,
            "right": null,
            "top": null,
            "visibility": null,
            "width": null
          }
        },
        "c74b0388505b40d5b431d6591cac1bad": {
          "model_module": "@jupyter-widgets/controls",
          "model_name": "DescriptionStyleModel",
          "model_module_version": "1.5.0",
          "state": {
            "_model_module": "@jupyter-widgets/controls",
            "_model_module_version": "1.5.0",
            "_model_name": "DescriptionStyleModel",
            "_view_count": null,
            "_view_module": "@jupyter-widgets/base",
            "_view_module_version": "1.2.0",
            "_view_name": "StyleView",
            "description_width": ""
          }
        },
        "6a65eb5354b946a298593083a8d2b9d1": {
          "model_module": "@jupyter-widgets/controls",
          "model_name": "HBoxModel",
          "model_module_version": "1.5.0",
          "state": {
            "_dom_classes": [],
            "_model_module": "@jupyter-widgets/controls",
            "_model_module_version": "1.5.0",
            "_model_name": "HBoxModel",
            "_view_count": null,
            "_view_module": "@jupyter-widgets/controls",
            "_view_module_version": "1.5.0",
            "_view_name": "HBoxView",
            "box_style": "",
            "children": [
              "IPY_MODEL_0dfd3310d5eb40e3960d917898b89c4a",
              "IPY_MODEL_2f5410dcff01447096c38392a52cc3a7",
              "IPY_MODEL_e28a447b4e6d4c799edf7530ef223939"
            ],
            "layout": "IPY_MODEL_7b159e6a93d34ee2ae96f6b28f791555"
          }
        },
        "0dfd3310d5eb40e3960d917898b89c4a": {
          "model_module": "@jupyter-widgets/controls",
          "model_name": "HTMLModel",
          "model_module_version": "1.5.0",
          "state": {
            "_dom_classes": [],
            "_model_module": "@jupyter-widgets/controls",
            "_model_module_version": "1.5.0",
            "_model_name": "HTMLModel",
            "_view_count": null,
            "_view_module": "@jupyter-widgets/controls",
            "_view_module_version": "1.5.0",
            "_view_name": "HTMLView",
            "description": "",
            "description_tooltip": null,
            "layout": "IPY_MODEL_337ae3a4346b4bbab93956147f86fd49",
            "placeholder": "​",
            "style": "IPY_MODEL_d4ab85e927ca4b388ed2ca0aaff607b3",
            "value": "vocab.txt: 100%"
          }
        },
        "2f5410dcff01447096c38392a52cc3a7": {
          "model_module": "@jupyter-widgets/controls",
          "model_name": "FloatProgressModel",
          "model_module_version": "1.5.0",
          "state": {
            "_dom_classes": [],
            "_model_module": "@jupyter-widgets/controls",
            "_model_module_version": "1.5.0",
            "_model_name": "FloatProgressModel",
            "_view_count": null,
            "_view_module": "@jupyter-widgets/controls",
            "_view_module_version": "1.5.0",
            "_view_name": "ProgressView",
            "bar_style": "success",
            "description": "",
            "description_tooltip": null,
            "layout": "IPY_MODEL_4e24a4a50ea144188d0d512b96d4ffe8",
            "max": 1552337,
            "min": 0,
            "orientation": "horizontal",
            "style": "IPY_MODEL_51980ba136c1402abd58e17c71f89362",
            "value": 1552337
          }
        },
        "e28a447b4e6d4c799edf7530ef223939": {
          "model_module": "@jupyter-widgets/controls",
          "model_name": "HTMLModel",
          "model_module_version": "1.5.0",
          "state": {
            "_dom_classes": [],
            "_model_module": "@jupyter-widgets/controls",
            "_model_module_version": "1.5.0",
            "_model_name": "HTMLModel",
            "_view_count": null,
            "_view_module": "@jupyter-widgets/controls",
            "_view_module_version": "1.5.0",
            "_view_name": "HTMLView",
            "description": "",
            "description_tooltip": null,
            "layout": "IPY_MODEL_00ba64edf1834772b8408d0720ab6efb",
            "placeholder": "​",
            "style": "IPY_MODEL_f9fade0da2b648f9bf3e6c9392997c63",
            "value": " 1.55M/1.55M [00:01&lt;00:00, 14.2MB/s]"
          }
        },
        "7b159e6a93d34ee2ae96f6b28f791555": {
          "model_module": "@jupyter-widgets/base",
          "model_name": "LayoutModel",
          "model_module_version": "1.2.0",
          "state": {
            "_model_module": "@jupyter-widgets/base",
            "_model_module_version": "1.2.0",
            "_model_name": "LayoutModel",
            "_view_count": null,
            "_view_module": "@jupyter-widgets/base",
            "_view_module_version": "1.2.0",
            "_view_name": "LayoutView",
            "align_content": null,
            "align_items": null,
            "align_self": null,
            "border": null,
            "bottom": null,
            "display": null,
            "flex": null,
            "flex_flow": null,
            "grid_area": null,
            "grid_auto_columns": null,
            "grid_auto_flow": null,
            "grid_auto_rows": null,
            "grid_column": null,
            "grid_gap": null,
            "grid_row": null,
            "grid_template_areas": null,
            "grid_template_columns": null,
            "grid_template_rows": null,
            "height": null,
            "justify_content": null,
            "justify_items": null,
            "left": null,
            "margin": null,
            "max_height": null,
            "max_width": null,
            "min_height": null,
            "min_width": null,
            "object_fit": null,
            "object_position": null,
            "order": null,
            "overflow": null,
            "overflow_x": null,
            "overflow_y": null,
            "padding": null,
            "right": null,
            "top": null,
            "visibility": null,
            "width": null
          }
        },
        "337ae3a4346b4bbab93956147f86fd49": {
          "model_module": "@jupyter-widgets/base",
          "model_name": "LayoutModel",
          "model_module_version": "1.2.0",
          "state": {
            "_model_module": "@jupyter-widgets/base",
            "_model_module_version": "1.2.0",
            "_model_name": "LayoutModel",
            "_view_count": null,
            "_view_module": "@jupyter-widgets/base",
            "_view_module_version": "1.2.0",
            "_view_name": "LayoutView",
            "align_content": null,
            "align_items": null,
            "align_self": null,
            "border": null,
            "bottom": null,
            "display": null,
            "flex": null,
            "flex_flow": null,
            "grid_area": null,
            "grid_auto_columns": null,
            "grid_auto_flow": null,
            "grid_auto_rows": null,
            "grid_column": null,
            "grid_gap": null,
            "grid_row": null,
            "grid_template_areas": null,
            "grid_template_columns": null,
            "grid_template_rows": null,
            "height": null,
            "justify_content": null,
            "justify_items": null,
            "left": null,
            "margin": null,
            "max_height": null,
            "max_width": null,
            "min_height": null,
            "min_width": null,
            "object_fit": null,
            "object_position": null,
            "order": null,
            "overflow": null,
            "overflow_x": null,
            "overflow_y": null,
            "padding": null,
            "right": null,
            "top": null,
            "visibility": null,
            "width": null
          }
        },
        "d4ab85e927ca4b388ed2ca0aaff607b3": {
          "model_module": "@jupyter-widgets/controls",
          "model_name": "DescriptionStyleModel",
          "model_module_version": "1.5.0",
          "state": {
            "_model_module": "@jupyter-widgets/controls",
            "_model_module_version": "1.5.0",
            "_model_name": "DescriptionStyleModel",
            "_view_count": null,
            "_view_module": "@jupyter-widgets/base",
            "_view_module_version": "1.2.0",
            "_view_name": "StyleView",
            "description_width": ""
          }
        },
        "4e24a4a50ea144188d0d512b96d4ffe8": {
          "model_module": "@jupyter-widgets/base",
          "model_name": "LayoutModel",
          "model_module_version": "1.2.0",
          "state": {
            "_model_module": "@jupyter-widgets/base",
            "_model_module_version": "1.2.0",
            "_model_name": "LayoutModel",
            "_view_count": null,
            "_view_module": "@jupyter-widgets/base",
            "_view_module_version": "1.2.0",
            "_view_name": "LayoutView",
            "align_content": null,
            "align_items": null,
            "align_self": null,
            "border": null,
            "bottom": null,
            "display": null,
            "flex": null,
            "flex_flow": null,
            "grid_area": null,
            "grid_auto_columns": null,
            "grid_auto_flow": null,
            "grid_auto_rows": null,
            "grid_column": null,
            "grid_gap": null,
            "grid_row": null,
            "grid_template_areas": null,
            "grid_template_columns": null,
            "grid_template_rows": null,
            "height": null,
            "justify_content": null,
            "justify_items": null,
            "left": null,
            "margin": null,
            "max_height": null,
            "max_width": null,
            "min_height": null,
            "min_width": null,
            "object_fit": null,
            "object_position": null,
            "order": null,
            "overflow": null,
            "overflow_x": null,
            "overflow_y": null,
            "padding": null,
            "right": null,
            "top": null,
            "visibility": null,
            "width": null
          }
        },
        "51980ba136c1402abd58e17c71f89362": {
          "model_module": "@jupyter-widgets/controls",
          "model_name": "ProgressStyleModel",
          "model_module_version": "1.5.0",
          "state": {
            "_model_module": "@jupyter-widgets/controls",
            "_model_module_version": "1.5.0",
            "_model_name": "ProgressStyleModel",
            "_view_count": null,
            "_view_module": "@jupyter-widgets/base",
            "_view_module_version": "1.2.0",
            "_view_name": "StyleView",
            "bar_color": null,
            "description_width": ""
          }
        },
        "00ba64edf1834772b8408d0720ab6efb": {
          "model_module": "@jupyter-widgets/base",
          "model_name": "LayoutModel",
          "model_module_version": "1.2.0",
          "state": {
            "_model_module": "@jupyter-widgets/base",
            "_model_module_version": "1.2.0",
            "_model_name": "LayoutModel",
            "_view_count": null,
            "_view_module": "@jupyter-widgets/base",
            "_view_module_version": "1.2.0",
            "_view_name": "LayoutView",
            "align_content": null,
            "align_items": null,
            "align_self": null,
            "border": null,
            "bottom": null,
            "display": null,
            "flex": null,
            "flex_flow": null,
            "grid_area": null,
            "grid_auto_columns": null,
            "grid_auto_flow": null,
            "grid_auto_rows": null,
            "grid_column": null,
            "grid_gap": null,
            "grid_row": null,
            "grid_template_areas": null,
            "grid_template_columns": null,
            "grid_template_rows": null,
            "height": null,
            "justify_content": null,
            "justify_items": null,
            "left": null,
            "margin": null,
            "max_height": null,
            "max_width": null,
            "min_height": null,
            "min_width": null,
            "object_fit": null,
            "object_position": null,
            "order": null,
            "overflow": null,
            "overflow_x": null,
            "overflow_y": null,
            "padding": null,
            "right": null,
            "top": null,
            "visibility": null,
            "width": null
          }
        },
        "f9fade0da2b648f9bf3e6c9392997c63": {
          "model_module": "@jupyter-widgets/controls",
          "model_name": "DescriptionStyleModel",
          "model_module_version": "1.5.0",
          "state": {
            "_model_module": "@jupyter-widgets/controls",
            "_model_module_version": "1.5.0",
            "_model_name": "DescriptionStyleModel",
            "_view_count": null,
            "_view_module": "@jupyter-widgets/base",
            "_view_module_version": "1.2.0",
            "_view_name": "StyleView",
            "description_width": ""
          }
        },
        "e771475e5a7342afafcf3c0f87051cb6": {
          "model_module": "@jupyter-widgets/controls",
          "model_name": "HBoxModel",
          "model_module_version": "1.5.0",
          "state": {
            "_dom_classes": [],
            "_model_module": "@jupyter-widgets/controls",
            "_model_module_version": "1.5.0",
            "_model_name": "HBoxModel",
            "_view_count": null,
            "_view_module": "@jupyter-widgets/controls",
            "_view_module_version": "1.5.0",
            "_view_name": "HBoxView",
            "box_style": "",
            "children": [
              "IPY_MODEL_19dca4f7034a441cac83e83d8ada8cba",
              "IPY_MODEL_254113655b744fac8bf965dbec1ce0ba",
              "IPY_MODEL_670acabf85a04836bcb0eaf6c9bbc123"
            ],
            "layout": "IPY_MODEL_1b608041fc374c36b3c898eae0f07522"
          }
        },
        "19dca4f7034a441cac83e83d8ada8cba": {
          "model_module": "@jupyter-widgets/controls",
          "model_name": "HTMLModel",
          "model_module_version": "1.5.0",
          "state": {
            "_dom_classes": [],
            "_model_module": "@jupyter-widgets/controls",
            "_model_module_version": "1.5.0",
            "_model_name": "HTMLModel",
            "_view_count": null,
            "_view_module": "@jupyter-widgets/controls",
            "_view_module_version": "1.5.0",
            "_view_name": "HTMLView",
            "description": "",
            "description_tooltip": null,
            "layout": "IPY_MODEL_3bbdd33954124342943cf0db58f17105",
            "placeholder": "​",
            "style": "IPY_MODEL_67d3509e2d24401bb998d530cc1d717e",
            "value": "model.safetensors: 100%"
          }
        },
        "254113655b744fac8bf965dbec1ce0ba": {
          "model_module": "@jupyter-widgets/controls",
          "model_name": "FloatProgressModel",
          "model_module_version": "1.5.0",
          "state": {
            "_dom_classes": [],
            "_model_module": "@jupyter-widgets/controls",
            "_model_module_version": "1.5.0",
            "_model_name": "FloatProgressModel",
            "_view_count": null,
            "_view_module": "@jupyter-widgets/controls",
            "_view_module_version": "1.5.0",
            "_view_name": "ProgressView",
            "bar_style": "success",
            "description": "",
            "description_tooltip": null,
            "layout": "IPY_MODEL_cd07ac41f0454dc5b802bb9dbbe1f414",
            "max": 711443456,
            "min": 0,
            "orientation": "horizontal",
            "style": "IPY_MODEL_79075ede3f554fd7800636194720cbbc",
            "value": 711443456
          }
        },
        "670acabf85a04836bcb0eaf6c9bbc123": {
          "model_module": "@jupyter-widgets/controls",
          "model_name": "HTMLModel",
          "model_module_version": "1.5.0",
          "state": {
            "_dom_classes": [],
            "_model_module": "@jupyter-widgets/controls",
            "_model_module_version": "1.5.0",
            "_model_name": "HTMLModel",
            "_view_count": null,
            "_view_module": "@jupyter-widgets/controls",
            "_view_module_version": "1.5.0",
            "_view_name": "HTMLView",
            "description": "",
            "description_tooltip": null,
            "layout": "IPY_MODEL_03887b77c18c491896f5ee9729324cef",
            "placeholder": "​",
            "style": "IPY_MODEL_ee2187e87b5740c994e4994ad3e4533f",
            "value": " 711M/711M [00:52&lt;00:00, 26.8MB/s]"
          }
        },
        "1b608041fc374c36b3c898eae0f07522": {
          "model_module": "@jupyter-widgets/base",
          "model_name": "LayoutModel",
          "model_module_version": "1.2.0",
          "state": {
            "_model_module": "@jupyter-widgets/base",
            "_model_module_version": "1.2.0",
            "_model_name": "LayoutModel",
            "_view_count": null,
            "_view_module": "@jupyter-widgets/base",
            "_view_module_version": "1.2.0",
            "_view_name": "LayoutView",
            "align_content": null,
            "align_items": null,
            "align_self": null,
            "border": null,
            "bottom": null,
            "display": null,
            "flex": null,
            "flex_flow": null,
            "grid_area": null,
            "grid_auto_columns": null,
            "grid_auto_flow": null,
            "grid_auto_rows": null,
            "grid_column": null,
            "grid_gap": null,
            "grid_row": null,
            "grid_template_areas": null,
            "grid_template_columns": null,
            "grid_template_rows": null,
            "height": null,
            "justify_content": null,
            "justify_items": null,
            "left": null,
            "margin": null,
            "max_height": null,
            "max_width": null,
            "min_height": null,
            "min_width": null,
            "object_fit": null,
            "object_position": null,
            "order": null,
            "overflow": null,
            "overflow_x": null,
            "overflow_y": null,
            "padding": null,
            "right": null,
            "top": null,
            "visibility": null,
            "width": null
          }
        },
        "3bbdd33954124342943cf0db58f17105": {
          "model_module": "@jupyter-widgets/base",
          "model_name": "LayoutModel",
          "model_module_version": "1.2.0",
          "state": {
            "_model_module": "@jupyter-widgets/base",
            "_model_module_version": "1.2.0",
            "_model_name": "LayoutModel",
            "_view_count": null,
            "_view_module": "@jupyter-widgets/base",
            "_view_module_version": "1.2.0",
            "_view_name": "LayoutView",
            "align_content": null,
            "align_items": null,
            "align_self": null,
            "border": null,
            "bottom": null,
            "display": null,
            "flex": null,
            "flex_flow": null,
            "grid_area": null,
            "grid_auto_columns": null,
            "grid_auto_flow": null,
            "grid_auto_rows": null,
            "grid_column": null,
            "grid_gap": null,
            "grid_row": null,
            "grid_template_areas": null,
            "grid_template_columns": null,
            "grid_template_rows": null,
            "height": null,
            "justify_content": null,
            "justify_items": null,
            "left": null,
            "margin": null,
            "max_height": null,
            "max_width": null,
            "min_height": null,
            "min_width": null,
            "object_fit": null,
            "object_position": null,
            "order": null,
            "overflow": null,
            "overflow_x": null,
            "overflow_y": null,
            "padding": null,
            "right": null,
            "top": null,
            "visibility": null,
            "width": null
          }
        },
        "67d3509e2d24401bb998d530cc1d717e": {
          "model_module": "@jupyter-widgets/controls",
          "model_name": "DescriptionStyleModel",
          "model_module_version": "1.5.0",
          "state": {
            "_model_module": "@jupyter-widgets/controls",
            "_model_module_version": "1.5.0",
            "_model_name": "DescriptionStyleModel",
            "_view_count": null,
            "_view_module": "@jupyter-widgets/base",
            "_view_module_version": "1.2.0",
            "_view_name": "StyleView",
            "description_width": ""
          }
        },
        "cd07ac41f0454dc5b802bb9dbbe1f414": {
          "model_module": "@jupyter-widgets/base",
          "model_name": "LayoutModel",
          "model_module_version": "1.2.0",
          "state": {
            "_model_module": "@jupyter-widgets/base",
            "_model_module_version": "1.2.0",
            "_model_name": "LayoutModel",
            "_view_count": null,
            "_view_module": "@jupyter-widgets/base",
            "_view_module_version": "1.2.0",
            "_view_name": "LayoutView",
            "align_content": null,
            "align_items": null,
            "align_self": null,
            "border": null,
            "bottom": null,
            "display": null,
            "flex": null,
            "flex_flow": null,
            "grid_area": null,
            "grid_auto_columns": null,
            "grid_auto_flow": null,
            "grid_auto_rows": null,
            "grid_column": null,
            "grid_gap": null,
            "grid_row": null,
            "grid_template_areas": null,
            "grid_template_columns": null,
            "grid_template_rows": null,
            "height": null,
            "justify_content": null,
            "justify_items": null,
            "left": null,
            "margin": null,
            "max_height": null,
            "max_width": null,
            "min_height": null,
            "min_width": null,
            "object_fit": null,
            "object_position": null,
            "order": null,
            "overflow": null,
            "overflow_x": null,
            "overflow_y": null,
            "padding": null,
            "right": null,
            "top": null,
            "visibility": null,
            "width": null
          }
        },
        "79075ede3f554fd7800636194720cbbc": {
          "model_module": "@jupyter-widgets/controls",
          "model_name": "ProgressStyleModel",
          "model_module_version": "1.5.0",
          "state": {
            "_model_module": "@jupyter-widgets/controls",
            "_model_module_version": "1.5.0",
            "_model_name": "ProgressStyleModel",
            "_view_count": null,
            "_view_module": "@jupyter-widgets/base",
            "_view_module_version": "1.2.0",
            "_view_name": "StyleView",
            "bar_color": null,
            "description_width": ""
          }
        },
        "03887b77c18c491896f5ee9729324cef": {
          "model_module": "@jupyter-widgets/base",
          "model_name": "LayoutModel",
          "model_module_version": "1.2.0",
          "state": {
            "_model_module": "@jupyter-widgets/base",
            "_model_module_version": "1.2.0",
            "_model_name": "LayoutModel",
            "_view_count": null,
            "_view_module": "@jupyter-widgets/base",
            "_view_module_version": "1.2.0",
            "_view_name": "LayoutView",
            "align_content": null,
            "align_items": null,
            "align_self": null,
            "border": null,
            "bottom": null,
            "display": null,
            "flex": null,
            "flex_flow": null,
            "grid_area": null,
            "grid_auto_columns": null,
            "grid_auto_flow": null,
            "grid_auto_rows": null,
            "grid_column": null,
            "grid_gap": null,
            "grid_row": null,
            "grid_template_areas": null,
            "grid_template_columns": null,
            "grid_template_rows": null,
            "height": null,
            "justify_content": null,
            "justify_items": null,
            "left": null,
            "margin": null,
            "max_height": null,
            "max_width": null,
            "min_height": null,
            "min_width": null,
            "object_fit": null,
            "object_position": null,
            "order": null,
            "overflow": null,
            "overflow_x": null,
            "overflow_y": null,
            "padding": null,
            "right": null,
            "top": null,
            "visibility": null,
            "width": null
          }
        },
        "ee2187e87b5740c994e4994ad3e4533f": {
          "model_module": "@jupyter-widgets/controls",
          "model_name": "DescriptionStyleModel",
          "model_module_version": "1.5.0",
          "state": {
            "_model_module": "@jupyter-widgets/controls",
            "_model_module_version": "1.5.0",
            "_model_name": "DescriptionStyleModel",
            "_view_count": null,
            "_view_module": "@jupyter-widgets/base",
            "_view_module_version": "1.2.0",
            "_view_name": "StyleView",
            "description_width": ""
          }
        }
      }
    }
  },
  "cells": [
    {
      "cell_type": "markdown",
      "metadata": {
        "id": "view-in-github",
        "colab_type": "text"
      },
      "source": [
        "<a href=\"https://colab.research.google.com/github/Ermi1223/amharic-hate-speech-api/blob/main/Amharic_Hate_Speech_Detection_Model.ipynb\" target=\"_parent\"><img src=\"https://colab.research.google.com/assets/colab-badge.svg\" alt=\"Open In Colab\"/></a>"
      ]
    },
    {
      "cell_type": "markdown",
      "source": [
        "**Amharic Hate Speech Detection using fine-tuned mBERT**\n",
        "\n",
        "(multilingual Bidirectional Encoder Representations from Transformer)"
      ],
      "metadata": {
        "id": "9asodF3DdtjQ"
      }
    },
    {
      "cell_type": "markdown",
      "source": [
        "![Picture1.png](data:image/png;base64,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)"
      ],
      "metadata": {
        "id": "hkgb40AHeAOl"
      }
    },
    {
      "cell_type": "markdown",
      "source": [
        "The diagram illustrates the architecture of the Amharic Hate Speech Detection System in a clear and structured flow. Here's a breakdown of the design:\n",
        "\n",
        "**1. User Input**\n",
        "Description: This is where the user provides a text input for analysis. The text could contain potential hate speech in Amharic.\n",
        "Purpose: Acts as the entry point for the system.\n",
        "\n",
        "**2. Data Preprocessing**\n",
        "Description: Before the text can be analyzed, it is preprocessed to ensure it is clean and suitable for the model.\n",
        "Removing irrelevant characters or symbols.\n",
        "Tokenizing the text into manageable components.\n",
        "Encoding the data using the tokenizer of the fine-tuned mBERT model.\n",
        "Purpose: Prepares the text for accurate processing by the model.\n",
        "\n",
        "**3. Fine-tuned mBERT Model**\n",
        "Description: The preprocessed text is fed into the fine-tuned multilingual BERT (mBERT) model for classification. This model has been specifically trained to identify Amharic hate speech.\n",
        "Outputs the prediction (e.g., \"Hate Speech\" or \"Not Hate Speech\").\n",
        "Purpose: The core component responsible for understanding and classifying the input text.\n",
        "\n",
        "**4. Flask API**\n",
        "\n",
        "Description: The Flask API serves as the intermediary between the user and the machine learning model. It:\n",
        "Accepts user requests (text input).\n",
        "Sends the text to the preprocessing and prediction pipeline.\n",
        "Returns the model’s output to the user.\n",
        "Purpose: Provides a user-friendly interface for accessing the system via web or application-based platforms.\n",
        "\n",
        "**5. User Output**\n",
        "\n",
        "Description: The final step delivers the model's prediction back to the user. For example:\n",
        "\"The text contains Hate Speech.\"\n",
        "\"The text does not contain Hate Speech.\"\n",
        "Purpose: Ensures the system provides actionable insights based on the input text."
      ],
      "metadata": {
        "id": "lkwNR0VcVLyJ"
      }
    },
    {
      "cell_type": "markdown",
      "source": [
        "To implement this project follow the following step"
      ],
      "metadata": {
        "id": "tTQOEDFnXbB8"
      }
    },
    {
      "cell_type": "markdown",
      "source": [
        "**Step 1:** Install the necessary packages\n",
        "We need two packages:\n",
        "\n",
        "\n",
        "*   Transformers package made available by Huggingface\n",
        "*   Dataset package made availale by Huggingface\n",
        "\n",
        "\n",
        "\n",
        "\n",
        "\n"
      ],
      "metadata": {
        "id": "seFiIYvFXAFc"
      }
    },
    {
      "cell_type": "code",
      "source": [
        "pip install scikit-learn datasets transformers"
      ],
      "metadata": {
        "colab": {
          "base_uri": "https://localhost:8080/"
        },
        "id": "2HvYGKNeNSN8",
        "outputId": "63cb5b30-984d-41bd-f880-24ef2db7b8ab"
      },
      "execution_count": null,
      "outputs": [
        {
          "output_type": "stream",
          "name": "stdout",
          "text": [
            "Requirement already satisfied: scikit-learn in /usr/local/lib/python3.10/dist-packages (1.6.0)\n",
            "Requirement already satisfied: datasets in /usr/local/lib/python3.10/dist-packages (3.2.0)\n",
            "Requirement already satisfied: transformers in /usr/local/lib/python3.10/dist-packages (4.47.1)\n",
            "Requirement already satisfied: numpy>=1.19.5 in /usr/local/lib/python3.10/dist-packages (from scikit-learn) (1.26.4)\n",
            "Requirement already satisfied: scipy>=1.6.0 in /usr/local/lib/python3.10/dist-packages (from scikit-learn) (1.13.1)\n",
            "Requirement already satisfied: joblib>=1.2.0 in /usr/local/lib/python3.10/dist-packages (from scikit-learn) (1.4.2)\n",
            "Requirement already satisfied: threadpoolctl>=3.1.0 in /usr/local/lib/python3.10/dist-packages (from scikit-learn) (3.5.0)\n",
            "Requirement already satisfied: filelock in /usr/local/lib/python3.10/dist-packages (from datasets) (3.16.1)\n",
            "Requirement already satisfied: pyarrow>=15.0.0 in /usr/local/lib/python3.10/dist-packages (from datasets) (17.0.0)\n",
            "Requirement already satisfied: dill<0.3.9,>=0.3.0 in /usr/local/lib/python3.10/dist-packages (from datasets) (0.3.8)\n",
            "Requirement already satisfied: pandas in /usr/local/lib/python3.10/dist-packages (from datasets) (2.2.2)\n",
            "Requirement already satisfied: requests>=2.32.2 in /usr/local/lib/python3.10/dist-packages (from datasets) (2.32.3)\n",
            "Requirement already satisfied: tqdm>=4.66.3 in /usr/local/lib/python3.10/dist-packages (from datasets) (4.67.1)\n",
            "Requirement already satisfied: xxhash in /usr/local/lib/python3.10/dist-packages (from datasets) (3.5.0)\n",
            "Requirement already satisfied: multiprocess<0.70.17 in /usr/local/lib/python3.10/dist-packages (from datasets) (0.70.16)\n",
            "Requirement already satisfied: fsspec<=2024.9.0,>=2023.1.0 in /usr/local/lib/python3.10/dist-packages (from fsspec[http]<=2024.9.0,>=2023.1.0->datasets) (2024.9.0)\n",
            "Requirement already satisfied: aiohttp in /usr/local/lib/python3.10/dist-packages (from datasets) (3.11.10)\n",
            "Requirement already satisfied: huggingface-hub>=0.23.0 in /usr/local/lib/python3.10/dist-packages (from datasets) (0.27.0)\n",
            "Requirement already satisfied: packaging in /usr/local/lib/python3.10/dist-packages (from datasets) (24.2)\n",
            "Requirement already satisfied: pyyaml>=5.1 in /usr/local/lib/python3.10/dist-packages (from datasets) (6.0.2)\n",
            "Requirement already satisfied: regex!=2019.12.17 in /usr/local/lib/python3.10/dist-packages (from transformers) (2024.11.6)\n",
            "Requirement already satisfied: tokenizers<0.22,>=0.21 in /usr/local/lib/python3.10/dist-packages (from transformers) (0.21.0)\n",
            "Requirement already satisfied: safetensors>=0.4.1 in /usr/local/lib/python3.10/dist-packages (from transformers) (0.4.5)\n",
            "Requirement already satisfied: aiohappyeyeballs>=2.3.0 in /usr/local/lib/python3.10/dist-packages (from aiohttp->datasets) (2.4.4)\n",
            "Requirement already satisfied: aiosignal>=1.1.2 in /usr/local/lib/python3.10/dist-packages (from aiohttp->datasets) (1.3.2)\n",
            "Requirement already satisfied: async-timeout<6.0,>=4.0 in /usr/local/lib/python3.10/dist-packages (from aiohttp->datasets) (4.0.3)\n",
            "Requirement already satisfied: attrs>=17.3.0 in /usr/local/lib/python3.10/dist-packages (from aiohttp->datasets) (24.3.0)\n",
            "Requirement already satisfied: frozenlist>=1.1.1 in /usr/local/lib/python3.10/dist-packages (from aiohttp->datasets) (1.5.0)\n",
            "Requirement already satisfied: multidict<7.0,>=4.5 in /usr/local/lib/python3.10/dist-packages (from aiohttp->datasets) (6.1.0)\n",
            "Requirement already satisfied: propcache>=0.2.0 in /usr/local/lib/python3.10/dist-packages (from aiohttp->datasets) (0.2.1)\n",
            "Requirement already satisfied: yarl<2.0,>=1.17.0 in /usr/local/lib/python3.10/dist-packages (from aiohttp->datasets) (1.18.3)\n",
            "Requirement already satisfied: typing-extensions>=3.7.4.3 in /usr/local/lib/python3.10/dist-packages (from huggingface-hub>=0.23.0->datasets) (4.12.2)\n",
            "Requirement already satisfied: charset-normalizer<4,>=2 in /usr/local/lib/python3.10/dist-packages (from requests>=2.32.2->datasets) (3.4.0)\n",
            "Requirement already satisfied: idna<4,>=2.5 in /usr/local/lib/python3.10/dist-packages (from requests>=2.32.2->datasets) (3.10)\n",
            "Requirement already satisfied: urllib3<3,>=1.21.1 in /usr/local/lib/python3.10/dist-packages (from requests>=2.32.2->datasets) (2.2.3)\n",
            "Requirement already satisfied: certifi>=2017.4.17 in /usr/local/lib/python3.10/dist-packages (from requests>=2.32.2->datasets) (2024.12.14)\n",
            "Requirement already satisfied: python-dateutil>=2.8.2 in /usr/local/lib/python3.10/dist-packages (from pandas->datasets) (2.8.2)\n",
            "Requirement already satisfied: pytz>=2020.1 in /usr/local/lib/python3.10/dist-packages (from pandas->datasets) (2024.2)\n",
            "Requirement already satisfied: tzdata>=2022.7 in /usr/local/lib/python3.10/dist-packages (from pandas->datasets) (2024.2)\n",
            "Requirement already satisfied: six>=1.5 in /usr/local/lib/python3.10/dist-packages (from python-dateutil>=2.8.2->pandas->datasets) (1.17.0)\n"
          ]
        }
      ]
    },
    {
      "cell_type": "markdown",
      "source": [
        "**Step 2:** Import the necessay libraries from the installed packages"
      ],
      "metadata": {
        "id": "5O0CYIcHaaXy"
      }
    },
    {
      "cell_type": "code",
      "source": [
        "from transformers import BertTokenizer, BertForSequenceClassification\n",
        "from transformers import Trainer, TrainingArguments\n",
        "import torch\n",
        "num_labels = 2\n",
        "\n",
        "# Load the pre-trained model and tokenizer\n",
        "model_name = \"amengemeda/amharic-hate-speech-detection-mBERT\"\n",
        "model = BertForSequenceClassification.from_pretrained(model_name,num_labels=num_labels)\n",
        "tokenizer = BertTokenizer.from_pretrained(model_name)\n"
      ],
      "metadata": {
        "colab": {
          "base_uri": "https://localhost:8080/",
          "height": 336,
          "referenced_widgets": [
            "cecdce5bca4c40b8870dd4ef011be904",
            "cfc183f559464446962fdbab74a1deda",
            "0b0065d78db54596830e004fb48dcb5c",
            "28af38d45d194aaea76889d34f554b12",
            "52a737e2be2942e5bacb8f9b0589e04e",
            "6afee196f8154449b119bc90e5395a80",
            "fc09499180f34b6c8bd1cbad5e2b4078",
            "b9a01ed0a18340f7b6bb3d6ad6f531a5",
            "61eb5d9e39c540d1aa1c7d7a1689b0b6",
            "4335eee2ca984931bdd6b2df992cbf9a",
            "6cc7eb26d2ee46abb98820486c7cfe19",
            "840116167fb5481f8ff1de98e723bc1b",
            "207fc72bcd484f24919f3743ac4602f7",
            "1e2a27cbf7ad4f46b8af57cf21cb1bd3",
            "e750d63d0d4149519d57b4e08e354c10",
            "63657ead25bc4ab3afc0c83b744bef1c",
            "9116a787f54e47c2a8f04535ce7836f8",
            "d67d5d98c06b4477a466950e3eb9a5d3",
            "36efd036584a4e368ac59237fdd32cf3",
            "b51ca148b99448efbf7110b4b8832f27",
            "e1e6400c9c55419da9734d2882024ccf",
            "3c1b91693db044f9b111167e4c975da1",
            "d4656863e2cf4b818704cf7eafd406fe",
            "5c057a915f814c1bbf83d0113d80d795",
            "482e9185b6ad4f0286d9c93140dda7f9",
            "572ac2338ab640d9a34bc9d57f0e9f56",
            "66c978eb62624e65b17bccc816b366fc",
            "9c43a6f097954b4c8100e24518adab37",
            "e8d75740ed7f45dfa3207c097a52cf0b",
            "059b8fdba89842c8bba39d9e3845a51d",
            "58ce2b36b606498f80b5d58cb24b2467",
            "d134fb2bedb24499a5309d07bff0e6ec",
            "f0629b9a38084ecaabf292a6f32889a4",
            "a369d4772afa457cad98a9354e723ad5",
            "f2fdae950da34e5cb3d747a8040b2340",
            "b55ec54322004b6a83d90de50506562d",
            "da64d58388f04dadbf0f759244688d78",
            "e1d40fac158d437da501c4e06e8e2959",
            "2bdd83c8888047a0b98ff4b88d1b5573",
            "5c75887bf1db48b380bee61ec3572bde",
            "5cbfbb03f19e49faa7d9e1e2f290032b",
            "bd3c819e81d342179373d9c619f1f37b",
            "791d448d4dfb4c3cb36fc8458ca625c8",
            "335ae2bd848949508a26f9704b6cb3b2",
            "f9695cd76465491dba2cedc75f2c772d",
            "2c0303ba386e433eafc387a11b13f0db",
            "f2e8f547df554c9ba0aa9e917debb06e",
            "072407c3826e43098a6ab3e4840ae360",
            "505ea09449424df28c9bc4fa9e9c1d9f",
            "d83d0633c5a540ff92ac67897b843681",
            "b8fcaaa9aacb48afa1174b14ba8b7dbc",
            "b0651594141347c5a71086bfcf545039",
            "d441d92d061e4ea7a829aea4ba8c9218",
            "d0007b44b4a84a1d93110db13754a8a1",
            "fbc7f856fadc4a6bad977ef38674b4fd",
            "4e3a560f9d1a411bad66a689cf93971a",
            "b8bc776dbc054eac97aa22fa3c8d1040",
            "f3b3a1d723274fab8a7b429ad224d1db",
            "b76dd718655e4fa38edb005facf57ab2",
            "9adfcae038ff49ae84e76afbca61154b",
            "1ceb53293bf248d8904fb1be5026f6f5",
            "8eca13fc5759423db05f9e76db57d479",
            "46000bfc18354b609a8e815686dfd7bf",
            "9740ae227698463794120093ca176b7b",
            "5fa045e4d9f747cfb7994beef3e327df",
            "d87a438dca404c199f3d4a764a80bfc2"
          ]
        },
        "id": "HVcb_08SNTXV",
        "outputId": "a0103126-698f-451b-a19a-4b5c3e61a18c"
      },
      "execution_count": null,
      "outputs": [
        {
          "output_type": "stream",
          "name": "stderr",
          "text": [
            "/usr/local/lib/python3.10/dist-packages/huggingface_hub/utils/_auth.py:94: UserWarning: \n",
            "The secret `HF_TOKEN` does not exist in your Colab secrets.\n",
            "To authenticate with the Hugging Face Hub, create a token in your settings tab (https://huggingface.co/settings/tokens), set it as secret in your Google Colab and restart your session.\n",
            "You will be able to reuse this secret in all of your notebooks.\n",
            "Please note that authentication is recommended but still optional to access public models or datasets.\n",
            "  warnings.warn(\n"
          ]
        },
        {
          "output_type": "display_data",
          "data": {
            "text/plain": [
              "config.json:   0%|          | 0.00/965 [00:00<?, ?B/s]"
            ],
            "application/vnd.jupyter.widget-view+json": {
              "version_major": 2,
              "version_minor": 0,
              "model_id": "cecdce5bca4c40b8870dd4ef011be904"
            }
          },
          "metadata": {}
        },
        {
          "output_type": "display_data",
          "data": {
            "text/plain": [
              "pytorch_model.bin:   0%|          | 0.00/711M [00:00<?, ?B/s]"
            ],
            "application/vnd.jupyter.widget-view+json": {
              "version_major": 2,
              "version_minor": 0,
              "model_id": "840116167fb5481f8ff1de98e723bc1b"
            }
          },
          "metadata": {}
        },
        {
          "output_type": "display_data",
          "data": {
            "text/plain": [
              "tokenizer_config.json:   0%|          | 0.00/437 [00:00<?, ?B/s]"
            ],
            "application/vnd.jupyter.widget-view+json": {
              "version_major": 2,
              "version_minor": 0,
              "model_id": "d4656863e2cf4b818704cf7eafd406fe"
            }
          },
          "metadata": {}
        },
        {
          "output_type": "display_data",
          "data": {
            "text/plain": [
              "vocab.txt:   0%|          | 0.00/1.55M [00:00<?, ?B/s]"
            ],
            "application/vnd.jupyter.widget-view+json": {
              "version_major": 2,
              "version_minor": 0,
              "model_id": "a369d4772afa457cad98a9354e723ad5"
            }
          },
          "metadata": {}
        },
        {
          "output_type": "display_data",
          "data": {
            "text/plain": [
              "special_tokens_map.json:   0%|          | 0.00/125 [00:00<?, ?B/s]"
            ],
            "application/vnd.jupyter.widget-view+json": {
              "version_major": 2,
              "version_minor": 0,
              "model_id": "f9695cd76465491dba2cedc75f2c772d"
            }
          },
          "metadata": {}
        },
        {
          "output_type": "display_data",
          "data": {
            "text/plain": [
              "tokenizer.json:   0%|          | 0.00/3.48M [00:00<?, ?B/s]"
            ],
            "application/vnd.jupyter.widget-view+json": {
              "version_major": 2,
              "version_minor": 0,
              "model_id": "4e3a560f9d1a411bad66a689cf93971a"
            }
          },
          "metadata": {}
        }
      ]
    },
    {
      "cell_type": "markdown",
      "source": [
        "**Step 3:** Import the dataset to be used for Training the model"
      ],
      "metadata": {
        "id": "aSmTzPNVakzh"
      }
    },
    {
      "cell_type": "code",
      "source": [
        "from google.colab import drive\n",
        "drive.mount('/content/drive')"
      ],
      "metadata": {
        "colab": {
          "base_uri": "https://localhost:8080/"
        },
        "id": "Je0AIXVjNWcp",
        "outputId": "73062da5-79a1-46ce-dc92-0107a45c145a"
      },
      "execution_count": null,
      "outputs": [
        {
          "output_type": "stream",
          "name": "stdout",
          "text": [
            "Mounted at /content/drive\n"
          ]
        }
      ]
    },
    {
      "cell_type": "markdown",
      "source": [
        "**Step 4:** Preprocess the Dataset\n",
        "When the dataset was retrived, the labels and the content were in different files.\n",
        "\n",
        "**First:** merging the files into one panda's dataframe.\n",
        "\n",
        "**Second:** Lable encoding is the process of converting the labels(classes) into numeric format to make it easier for the machine to understand it.\n",
        "\n",
        "**Third:** dividing the dataset into training, validation and testing categories. The division ratio is 7:1:2 respectively.\n",
        "Last step is to remove an unncessary columns from the main dataset and merging the all the categories into one main dataset"
      ],
      "metadata": {
        "id": "QVhQsad2awFO"
      }
    },
    {
      "cell_type": "markdown",
      "source": [
        "1. **Loads and inspects the data**: It reads the train and test datasets and verifies column names before processing.\n",
        "\n",
        "2. **Splits the combined column**: It separates the `Content,Label` column into two distinct columns, `Content` and `Label`.\n",
        "\n",
        "3. **Handles missing values**: It removes rows with `NaN` values in either `Content` or `Label`.\n",
        "\n",
        "4. **Cleans the labels**: Strips whitespace from `Label` values to ensure consistency.\n",
        "\n",
        "5. **Maps labels to integers**: Creates a mapping from non-numeric labels to continuous integers, ensuring compatibility with machine learning models.\n",
        "\n",
        "6. **Applies the mapping and verifies**: Updates the labels in the dataset and verifies the changes.\n",
        "\n",
        "7. **Determines the number of labels**: Computes `num_labels` dynamically based on unique labels in the training data.\n",
        "\n",
        "8. **Updates the model**: Configures the model to expect the correct number of labels."
      ],
      "metadata": {
        "id": "f2zDQt_midPV"
      }
    },
    {
      "cell_type": "code",
      "source": [
        "import pandas as pd\n",
        "\n",
        "# Load the datasets\n",
        "train_data = pd.read_csv('/content/drive/MyDrive/AMHSDataTrain.txt', delimiter=',')\n",
        "test_data = pd.read_csv('/content/drive/MyDrive/AMHSDataTest.txt', delimiter=',')\n",
        "\n",
        "# Check the columns before dropping NaN values to ensure correct names\n",
        "print(\"Train data columns before split:\", train_data.columns)\n",
        "print(\"Test data columns before split:\", test_data.columns)\n",
        "\n",
        "# Split 'Content,Label' into 'Content' and 'Label' columns\n",
        "train_data[['Content', 'Label']] = train_data['Content,Label'].str.split(',', expand=True)\n",
        "test_data[['Content', 'Label']] = test_data['Content,Label'].str.split(',', expand=True)\n",
        "\n",
        "# Drop the old combined column\n",
        "train_data = train_data.drop(columns=['Content,Label'])\n",
        "test_data = test_data.drop(columns=['Content,Label'])\n",
        "\n",
        "# Check the columns after splitting\n",
        "print(\"Train data columns after split:\", train_data.columns)\n",
        "print(\"Test data columns after split:\", test_data.columns)\n",
        "\n",
        "# Remove rows with missing values in both 'Content' and 'Label' columns\n",
        "train_data = train_data.dropna(subset=['Content', 'Label'])\n",
        "test_data = test_data.dropna(subset=['Content', 'Label'])\n",
        "\n",
        "# Strip leading and trailing whitespace from labels to ensure consistent label names\n",
        "train_data['Label'] = train_data['Label'].str.strip()\n",
        "test_data['Label'] = test_data['Label'].str.strip()\n",
        "\n",
        "# Map non-numeric labels to continuous integers\n",
        "unique_labels = sorted(train_data['Label'].unique())  # Ensure no NaN values are present\n",
        "label_mapping = {label: idx for idx, label in enumerate(unique_labels)}  # Create mapping\n",
        "print(\"Label Mapping:\", label_mapping)\n",
        "\n",
        "# Apply the mapping to the Label column\n",
        "train_data['Label'] = train_data['Label'].map(label_mapping)\n",
        "test_data['Label'] = test_data['Label'].map(label_mapping)\n",
        "\n",
        "# Verify the changes\n",
        "print(\"Train dataset after label mapping:\")\n",
        "print(train_data.head())\n",
        "print(\"Test dataset after label mapping:\")\n",
        "print(test_data.head())\n",
        "\n",
        "# Define num_labels\n",
        "num_labels = len(label_mapping)  # Set num_labels based on the actual number of unique labels in your dataset\n",
        "print(f\"Number of unique labels (num_labels): {num_labels}\")\n",
        "\n",
        "# Ensure the model is expecting the correct number of labels\n",
        "model.num_labels = num_labels  # Update the model's num_labels to match the dataset's label count\n"
      ],
      "metadata": {
        "colab": {
          "base_uri": "https://localhost:8080/"
        },
        "id": "8ae9cMDFNdo2",
        "outputId": "be4cb02f-70ed-4b5d-86b7-0d34328f7e33"
      },
      "execution_count": null,
      "outputs": [
        {
          "output_type": "stream",
          "name": "stdout",
          "text": [
            "Train data columns before split: Index(['Content,Label'], dtype='object')\n",
            "Test data columns before split: Index(['Content,Label'], dtype='object')\n",
            "Train data columns after split: Index(['Content', 'Label'], dtype='object')\n",
            "Test data columns after split: Index(['Content', 'Label'], dtype='object')\n",
            "Label Mapping: {'መልካም': 0, 'ጥላቻ': 1}\n",
            "Train dataset after label mapping:\n",
            "                                             Content  Label\n",
            "0  ሌቦች የአብይን ፎቶ ከጀርባህ ለጥፈህ ትለፈልፋለህ አብይ ላይ ያለንም እም...      1\n",
            "1                  ህዝቤ አንድ ቀን ትግሬን ይበቀላል ጊዜ ዳኛው ቶሎ ና      1\n",
            "2                                   ህዝብን የጨርስህ ጅብ ነህ      1\n",
            "3                   ህገ መንግስታችን ይከበር ምድረ ጅቦች ሰው በላ ሁላ      1\n",
            "4                                            ሆዳም ባንዳ      1\n",
            "Test dataset after label mapping:\n",
            "                                             Content  Label\n",
            "0  ዘረኛ ሰው ነው ስለሌላ ዘር ቀን ከለሊት ሲለፈልፍ የሚውለው  ዘረኛ መሆን...      1\n",
            "1  ዘፈኑ ጥሩ ነው አንድ ሆዳም አማራ ግን የትግራይን የሽንት ጨርቅ በረጅም ...      1\n",
            "2  ዛሬ ቅማላም ትግሬዎች በህዝባችን የተተፉና በገጀራ ዋጋቸውን የሚያገኙበት ...      1\n",
            "3  ዝባዝንኬ አንዳንድ ኤፍ ኤም ሬድዮ ጣቢያዎች ላይ የሚተላለፉ ሸርሙጣ ሸርሙ...      1\n",
            "4  የሀበሻ ምግብ ሂጄ ቅማላም ትግሬዎች ሲንጫጩ አበሸቁኝ እኛ በስንት ቀን አ...      1\n",
            "Number of unique labels (num_labels): 2\n"
          ]
        }
      ]
    },
    {
      "cell_type": "markdown",
      "source": [
        "This line of code is used to display the number of rows and columns in the training (`train_data`) and testing (`test_data`) datasets after preprocessing. This information is crucial for ensuring the preprocessing steps were executed correctly and for confirming that the data is in the expected format."
      ],
      "metadata": {
        "id": "aqWUrcgdjcq6"
      }
    },
    {
      "cell_type": "code",
      "source": [
        "print(\"Train dataset shape (rows, columns):\", train_data.shape)\n",
        "print(\"Test dataset shape (rows, columns):\", test_data.shape)"
      ],
      "metadata": {
        "colab": {
          "base_uri": "https://localhost:8080/"
        },
        "id": "ycjuhAS4OzQB",
        "outputId": "c6354624-0fd4-4fab-d600-d07a3c264e66"
      },
      "execution_count": null,
      "outputs": [
        {
          "output_type": "stream",
          "name": "stdout",
          "text": [
            "Train dataset shape (rows, columns): (1594, 2)\n",
            "Test dataset shape (rows, columns): (396, 2)\n"
          ]
        }
      ]
    },
    {
      "cell_type": "markdown",
      "source": [
        "1. **Inspect Columns**:\n",
        "   The column names in the training and testing datasets are printed to confirm the structure is as expected after preprocessing.\n",
        "\n",
        "2. **Check Unique Labels**:\n",
        "   The unique labels in both datasets are displayed to identify inconsistencies or unexpected values.\n",
        "\n",
        "3. **Encode Labels**:\n",
        "   Labels are converted into numeric format using `LabelEncoder`, ensuring consistent mapping across training and testing datasets.\n",
        "\n",
        "4. **Verify Encoded Labels**:\n",
        "   After encoding, the unique numeric labels are verified to ensure correctness. For binary classification, labels should typically be `[0, 1]`.\n",
        "\n",
        "5. **Set `num_labels`**:\n",
        "   The number of unique labels is determined and stored in `num_labels`, ensuring the model's output layer matches the dataset's classification requirements.\n",
        "\n",
        "6. **Initialize Model**:\n",
        "   A pre-trained model is configured for sequence classification with the correct number of output labels."
      ],
      "metadata": {
        "id": "fN2s1qxrjxps"
      }
    },
    {
      "cell_type": "markdown",
      "source": [
        "**Step 5: Tokenizing Dataset**\n",
        "A Tokenizer is used to translate text into data that can be processed by the model. Models can only process numbers, so tokenizers need to convert our text inputs to numerical data.\n",
        "\n",
        "In this case, the tokenizer used is an AutoTokenizer from the fine-tuned mBERT model made available by Hugging face here\n",
        "\n",
        "**In this phase, we have the following tasks:**\n",
        "\n",
        "Load the tokenizer\n",
        "Create a tokenizer function that takes the dataset in batches and tokenize them using the tokenizer loaded from the model\n",
        "Call the tokenizer function on the whole dataset"
      ],
      "metadata": {
        "id": "rPrpRBMxbRHb"
      }
    },
    {
      "cell_type": "code",
      "source": [
        "from sklearn.preprocessing import LabelEncoder  # Import LabelEncoder\n",
        "\n",
        "print(train_data.columns)\n",
        "print(test_data.columns)\n",
        "\n",
        "# Check unique labels in train and test datasets\n",
        "print(\"Unique train labels:\", train_data['Label'].unique())\n",
        "print(\"Unique test labels:\", test_data['Label'].unique())\n",
        "# Ensure label mapping is consistent\n",
        "label_encoder = LabelEncoder()\n",
        "train_data['Label'] = label_encoder.fit_transform(train_data['Label'])\n",
        "test_data['Label'] = label_encoder.transform(test_data['Label'])\n",
        "\n",
        "# Verify unique labels\n",
        "print(\"Encoded Train Labels:\", train_data['Label'].unique())  # Should be [0, 1] for binary classification\n",
        "print(\"Encoded Test Labels:\", test_data['Label'].unique())\n",
        "\n",
        "# Update num_labels\n",
        "num_labels = len(label_encoder.classes_)\n",
        "model = BertForSequenceClassification.from_pretrained(model_name, num_labels=num_labels)\n",
        "\n"
      ],
      "metadata": {
        "colab": {
          "base_uri": "https://localhost:8080/"
        },
        "id": "gFITMA5_Nf4K",
        "outputId": "d9432aef-1093-47e4-bd65-a4781fccba11"
      },
      "execution_count": null,
      "outputs": [
        {
          "output_type": "stream",
          "name": "stdout",
          "text": [
            "Index(['Content', 'Label'], dtype='object')\n",
            "Index(['Content', 'Label'], dtype='object')\n",
            "Unique train labels: [1 0]\n",
            "Unique test labels: [1 0]\n",
            "Encoded Train Labels: [1 0]\n",
            "Encoded Test Labels: [1 0]\n"
          ]
        }
      ]
    },
    {
      "cell_type": "markdown",
      "source": [
        "1. **Label Encoding**:\n",
        "   - The `LabelEncoder` is used to transform the text labels in the `Label` column into numeric values.\n",
        "   - The training data is encoded with `fit_transform`, which learns the mapping and applies it.\n",
        "   - The test data is encoded with `transform`, ensuring the same mapping is applied.\n",
        "\n",
        "2. **Verify Encoded Labels**:\n",
        "   - After encoding, the unique numeric labels in both datasets are displayed for verification.\n",
        "   - This ensures that the labels are consistent and correspond to their intended classes.\n",
        "\n",
        "3. **Generate Label Mapping**:\n",
        "   - The `label_mapping` dictionary is created to store the relationship between numeric labels and their original text counterparts.\n",
        "   - This mapping helps interpret the numeric labels during analysis or evaluation.\n",
        "\n",
        "4. **Print Label Mapping**:\n",
        "   - The `label_mapping` is printed to confirm the mapping from numbers back to the original labels. For example, `{0: 'Positive', 1: 'Negative'}`."
      ],
      "metadata": {
        "id": "O798WYcukCp4"
      }
    },
    {
      "cell_type": "code",
      "source": [
        "from sklearn.preprocessing import LabelEncoder\n",
        "\n",
        "label_encoder = LabelEncoder()\n",
        "train_data['Label'] = label_encoder.fit_transform(train_data['Label'])\n",
        "test_data['Label'] = label_encoder.transform(test_data['Label'])\n",
        "\n",
        "print(\"Encoded Train Labels:\", train_data['Label'].unique())\n",
        "print(\"Encoded Test Labels:\", test_data['Label'].unique())\n",
        "\n",
        "# Verify label mapping\n",
        "unique_labels = sorted(train_data['Label'].unique())\n",
        "label_mapping = {idx: label for idx, label in enumerate(label_encoder.classes_)}\n",
        "print(\"Label Mapping:\", label_mapping)\n"
      ],
      "metadata": {
        "colab": {
          "base_uri": "https://localhost:8080/"
        },
        "id": "qis-fBvFN3WV",
        "outputId": "646fe68a-7378-40f2-a617-7e2793d80e98"
      },
      "execution_count": null,
      "outputs": [
        {
          "output_type": "stream",
          "name": "stdout",
          "text": [
            "Encoded Train Labels: [1 0]\n",
            "Encoded Test Labels: [1 0]\n",
            "Label Mapping: {0: 0, 1: 1}\n"
          ]
        }
      ]
    },
    {
      "cell_type": "markdown",
      "source": [
        "**Step 6: Prepare the tokenized Dataset**\n",
        "\n",
        "In this phase, we do the following tasks:\n",
        "\n",
        "Remove unnecessary columns such as the \"posts\" column from the tokenized dataset as we no longer need them\n",
        "Change the format of the tokenized dataset into pytorch since we are using pytorch\n",
        "Load the dataset using DataLoader with the proper batch size\n",
        "Preview the features of the dataset to make sure everything is okay"
      ],
      "metadata": {
        "id": "s1nHR3fAb1fN"
      }
    },
    {
      "cell_type": "markdown",
      "source": [
        "- **Tokenization**: The `preprocess_data` function uses the tokenizer to convert text from the `Content` column into a format suitable for model input. It truncates texts to the specified maximum length and ensures padding where necessary.\n",
        "  \n",
        "- **Function Call**: The function is applied to both `train_data` and `test_data` to prepare them for model training and evaluation.\n"
      ],
      "metadata": {
        "id": "2poAJnFXkcE3"
      }
    },
    {
      "cell_type": "code",
      "source": [
        "#Update the tokenization function for error prevention:\n",
        "def preprocess_data(data, tokenizer, max_length=512):\n",
        "    encodings = tokenizer(\n",
        "        data['Content'].tolist(),\n",
        "        truncation=True,\n",
        "        padding=True,\n",
        "        max_length=max_length\n",
        "    )\n",
        "    return encodings\n",
        "\n",
        "train_encodings = preprocess_data(train_data, tokenizer)\n",
        "test_encodings = preprocess_data(test_data, tokenizer)\n"
      ],
      "metadata": {
        "id": "Y9a5hiT-N_tW"
      },
      "execution_count": null,
      "outputs": []
    },
    {
      "cell_type": "markdown",
      "source": [
        "1. **Dataset Class**:\n",
        "   - The `HateSpeechDataset` class inherits from `torch.utils.data.Dataset`, which allows you to load data in a way compatible with PyTorch’s data pipeline.\n",
        "   - **`__init__`**: Takes tokenized data (`encodings`) and labels, storing them as attributes.\n",
        "   - **`__getitem__`**: This function fetches a data item by index (`idx`), converting the input (`Content`) and the target (`Label`) into PyTorch tensors.\n",
        "   - **`__len__`**: Returns the number of items (labels) in the dataset.\n",
        "\n",
        "2. **Preparing Labels**:\n",
        "   - The `train_labels` and `test_labels` are extracted from the `Label` columns of the training and testing datasets (`train_data` and `test_data`).\n",
        "   - These labels are converted to lists to match the format expected by the `HateSpeechDataset`.\n",
        "\n",
        "3. **Creating the Dataset Objects**:\n",
        "   - The `train_dataset` and `test_dataset` are instantiated with the encoded tokenized data (`train_encodings`, `test_encodings`) and their corresponding labels (`train_labels`, `test_labels`)."
      ],
      "metadata": {
        "id": "bqkUE72CkwN7"
      }
    },
    {
      "cell_type": "code",
      "source": [
        "#Ensure the labels are numeric and within bounds. Update the dataset class:\n",
        "import torch\n",
        "from torch.utils.data import Dataset  # Import Dataset from torch.utils.data\n",
        "\n",
        "class HateSpeechDataset(Dataset):\n",
        "    def __init__(self, encodings, labels):\n",
        "        self.encodings = encodings\n",
        "        self.labels = labels\n",
        "\n",
        "    def __getitem__(self, idx):\n",
        "        item = {key: torch.tensor(val[idx]) for key, val in self.encodings.items()}\n",
        "        item['labels'] = torch.tensor(self.labels[idx])\n",
        "        return item\n",
        "\n",
        "    def __len__(self):\n",
        "        return len(self.labels)\n",
        "\n",
        "# Assuming train_data and test_data are pandas DataFrames and train_encodings/test_encodings are dictionaries\n",
        "train_labels = train_data['Label'].tolist()\n",
        "test_labels = test_data['Label'].tolist()\n",
        "\n",
        "train_dataset = HateSpeechDataset(train_encodings, train_labels)\n",
        "test_dataset = HateSpeechDataset(test_encodings, test_labels)\n"
      ],
      "metadata": {
        "id": "hEd7oS-COAUd"
      },
      "execution_count": null,
      "outputs": []
    },
    {
      "cell_type": "markdown",
      "source": [
        "1. **Class Range Validation**: It ensures that the predicted and actual labels fall within the valid range of class indices. If the labels fall outside this range, an error is raised.\n",
        "   \n",
        "2. **Edge Case Handling**: The function accounts for situations where a class might not appear in either the predictions or true labels, using a method to avoid errors (like division by zero).\n",
        "\n",
        "3. **Metric Calculation**: It computes the following metrics:\n",
        "   - **Accuracy**: The proportion of correct predictions.\n",
        "   - **Precision, Recall, and F1-Score**: These are calculated with a weighted average to handle class imbalance."
      ],
      "metadata": {
        "id": "zxjN_1BRlFCM"
      }
    },
    {
      "cell_type": "code",
      "source": [
        "#Modify the compute_metrics function to handle class range issues:\n",
        "from sklearn.metrics import accuracy_score, precision_recall_fscore_support\n",
        "\n",
        "def compute_metrics(p):\n",
        "    predictions, labels = p\n",
        "    predictions = torch.tensor(predictions)\n",
        "    labels = torch.tensor(labels)\n",
        "\n",
        "    predictions = torch.argmax(predictions, dim=1)\n",
        "    accuracy = accuracy_score(labels.cpu(), predictions.cpu())\n",
        "    precision, recall, f1, _ = precision_recall_fscore_support(\n",
        "        labels.cpu(), predictions.cpu(), average='weighted'\n",
        "    )\n",
        "    return {\n",
        "        'accuracy': accuracy,\n",
        "        'precision': precision,\n",
        "        'recall': recall,\n",
        "        'f1': f1\n",
        "    }\n"
      ],
      "metadata": {
        "id": "OKB-MqjDODa8"
      },
      "execution_count": null,
      "outputs": []
    },
    {
      "cell_type": "markdown",
      "source": [
        "1. **Training Arguments (`TrainingArguments`)**:\n",
        "   - `output_dir`: Directory where model checkpoints and results will be saved.\n",
        "   - `num_train_epochs`: Number of times the model will iterate over the training data (set to 8 epochs).\n",
        "   - `per_device_train_batch_size`: Batch size for training (8 in this case).\n",
        "   - `per_device_eval_batch_size`: Batch size for evaluation (also set to 8).\n",
        "   - `warmup_steps`: Number of warmup steps before learning rate scheduling starts (500 steps).\n",
        "   - `weight_decay`: Regularization parameter to prevent overfitting (set to 0.01).\n",
        "   - `logging_dir`: Directory for logging information.\n",
        "   - `logging_steps`: Frequency of logging (every 10 steps).\n",
        "   - `eval_strategy`: Defines when evaluation happens (here it's after every epoch).\n",
        "\n",
        "2. **Trainer**:\n",
        "   - `model`: The model to be trained.\n",
        "   - `args`: The training arguments specified above.\n",
        "   - `train_dataset`: The training dataset to be used.\n",
        "   - `eval_dataset`: The evaluation (test) dataset.\n",
        "   - `compute_metrics`: A function for calculating evaluation metrics like accuracy, precision, recall, and F1-score.\n",
        "\n",
        "3. **Training**:\n",
        "   - The `trainer.train()` method starts the training process with the specified settings and datasets."
      ],
      "metadata": {
        "id": "nQu3qlTIlPZh"
      }
    },
    {
      "cell_type": "markdown",
      "source": [
        "**Step 7: Fine-tune the model**\n",
        "\n",
        "This phase has the following steps:\n",
        "\n",
        "Load the model\n",
        "Specify the computing metric\n",
        "Specify the Training/fine-tuning arguments\n",
        "Load the Trainer class\n",
        "Fine-tune the model"
      ],
      "metadata": {
        "id": "kQCUCWrMbhRx"
      }
    },
    {
      "cell_type": "code",
      "source": [
        "from transformers import Trainer, TrainingArguments\n",
        "\n",
        "# Adjust training arguments\n",
        "training_args = TrainingArguments(\n",
        "    output_dir='./results',\n",
        "    num_train_epochs=8,\n",
        "    per_device_train_batch_size=8,\n",
        "    per_device_eval_batch_size=8,\n",
        "    warmup_steps=500,\n",
        "    weight_decay=0.01,\n",
        "    logging_dir='./logs',\n",
        "    logging_steps=10,\n",
        "    eval_strategy=\"epoch\",\n",
        ")\n",
        "\n",
        "# Set up Trainer\n",
        "trainer = Trainer(\n",
        "    model=model,\n",
        "    args=training_args,\n",
        "    train_dataset=train_dataset,\n",
        "    eval_dataset=test_dataset,\n",
        "    compute_metrics=compute_metrics\n",
        ")\n",
        "\n",
        "# Train the model\n",
        "trainer.train()\n"
      ],
      "metadata": {
        "colab": {
          "base_uri": "https://localhost:8080/",
          "height": 655
        },
        "id": "Tl63OLpkOR6T",
        "outputId": "1135abf1-98e4-4182-f09e-53fca8026a19"
      },
      "execution_count": null,
      "outputs": [
        {
          "data": {
            "text/html": [
              "\n",
              "    <div>\n",
              "      \n",
              "      <progress value='925' max='1600' style='width:300px; height:20px; vertical-align: middle;'></progress>\n",
              "      [ 925/1600 13:31 < 09:53, 1.14 it/s, Epoch 4.62/8]\n",
              "    </div>\n",
              "    <table border=\"1\" class=\"dataframe\">\n",
              "  <thead>\n",
              " <tr style=\"text-align: left;\">\n",
              "      <th>Epoch</th>\n",
              "      <th>Training Loss</th>\n",
              "      <th>Validation Loss</th>\n",
              "      <th>Accuracy</th>\n",
              "      <th>Precision</th>\n",
              "      <th>Recall</th>\n",
              "      <th>F1</th>\n",
              "    </tr>\n",
              "  </thead>\n",
              "  <tbody>\n",
              "    <tr>\n",
              "      <td>1</td>\n",
              "      <td>0.000000</td>\n",
              "      <td>1.422583</td>\n",
              "      <td>0.878788</td>\n",
              "      <td>0.880607</td>\n",
              "      <td>0.878788</td>\n",
              "      <td>0.878593</td>\n",
              "    </tr>\n",
              "    <tr>\n",
              "      <td>2</td>\n",
              "      <td>0.000000</td>\n",
              "      <td>1.608247</td>\n",
              "      <td>0.876263</td>\n",
              "      <td>0.879645</td>\n",
              "      <td>0.876263</td>\n",
              "      <td>0.875917</td>\n",
              "    </tr>\n",
              "    <tr>\n",
              "      <td>3</td>\n",
              "      <td>0.744100</td>\n",
              "      <td>0.699222</td>\n",
              "      <td>0.494949</td>\n",
              "      <td>0.244975</td>\n",
              "      <td>0.494949</td>\n",
              "      <td>0.327737</td>\n",
              "    </tr>\n",
              "    <tr>\n",
              "      <td>4</td>\n",
              "      <td>0.702000</td>\n",
              "      <td>0.743458</td>\n",
              "      <td>0.502525</td>\n",
              "      <td>0.254443</td>\n",
              "      <td>0.502525</td>\n",
              "      <td>0.337832</td>\n",
              "    </tr>\n",
              "  </tbody>\n",
              "</table><p>"
            ],
            "text/plain": [
              "<IPython.core.display.HTML object>"
            ]
          },
          "metadata": {},
          "output_type": "display_data"
        },
        {
          "metadata": {
            "tags": null
          },
          "name": "stderr",
          "output_type": "stream",
          "text": [
            "/usr/local/lib/python3.10/dist-packages/sklearn/metrics/_classification.py:1565: UndefinedMetricWarning: Precision is ill-defined and being set to 0.0 in labels with no predicted samples. Use `zero_division` parameter to control this behavior.\n",
            "  _warn_prf(average, modifier, f\"{metric.capitalize()} is\", len(result))\n"
          ]
        },
        {
          "output_type": "display_data",
          "data": {
            "text/plain": [
              "<IPython.core.display.HTML object>"
            ],
            "text/html": [
              "\n",
              "    <div>\n",
              "      \n",
              "      <progress value='1600' max='1600' style='width:300px; height:20px; vertical-align: middle;'></progress>\n",
              "      [1600/1600 24:19, Epoch 8/8]\n",
              "    </div>\n",
              "    <table border=\"1\" class=\"dataframe\">\n",
              "  <thead>\n",
              " <tr style=\"text-align: left;\">\n",
              "      <th>Epoch</th>\n",
              "      <th>Training Loss</th>\n",
              "      <th>Validation Loss</th>\n",
              "      <th>Accuracy</th>\n",
              "      <th>Precision</th>\n",
              "      <th>Recall</th>\n",
              "      <th>F1</th>\n",
              "    </tr>\n",
              "  </thead>\n",
              "  <tbody>\n",
              "    <tr>\n",
              "      <td>1</td>\n",
              "      <td>0.000000</td>\n",
              "      <td>1.422583</td>\n",
              "      <td>0.878788</td>\n",
              "      <td>0.880607</td>\n",
              "      <td>0.878788</td>\n",
              "      <td>0.878593</td>\n",
              "    </tr>\n",
              "    <tr>\n",
              "      <td>2</td>\n",
              "      <td>0.000000</td>\n",
              "      <td>1.608247</td>\n",
              "      <td>0.876263</td>\n",
              "      <td>0.879645</td>\n",
              "      <td>0.876263</td>\n",
              "      <td>0.875917</td>\n",
              "    </tr>\n",
              "    <tr>\n",
              "      <td>3</td>\n",
              "      <td>0.744100</td>\n",
              "      <td>0.699222</td>\n",
              "      <td>0.494949</td>\n",
              "      <td>0.244975</td>\n",
              "      <td>0.494949</td>\n",
              "      <td>0.327737</td>\n",
              "    </tr>\n",
              "    <tr>\n",
              "      <td>4</td>\n",
              "      <td>0.702000</td>\n",
              "      <td>0.743458</td>\n",
              "      <td>0.502525</td>\n",
              "      <td>0.254443</td>\n",
              "      <td>0.502525</td>\n",
              "      <td>0.337832</td>\n",
              "    </tr>\n",
              "    <tr>\n",
              "      <td>5</td>\n",
              "      <td>0.360500</td>\n",
              "      <td>0.512939</td>\n",
              "      <td>0.782828</td>\n",
              "      <td>0.813028</td>\n",
              "      <td>0.782828</td>\n",
              "      <td>0.776999</td>\n",
              "    </tr>\n",
              "    <tr>\n",
              "      <td>6</td>\n",
              "      <td>0.682400</td>\n",
              "      <td>0.695195</td>\n",
              "      <td>0.494949</td>\n",
              "      <td>0.244975</td>\n",
              "      <td>0.494949</td>\n",
              "      <td>0.327737</td>\n",
              "    </tr>\n",
              "    <tr>\n",
              "      <td>7</td>\n",
              "      <td>0.509600</td>\n",
              "      <td>0.526231</td>\n",
              "      <td>0.843434</td>\n",
              "      <td>0.847129</td>\n",
              "      <td>0.843434</td>\n",
              "      <td>0.843114</td>\n",
              "    </tr>\n",
              "    <tr>\n",
              "      <td>8</td>\n",
              "      <td>0.118900</td>\n",
              "      <td>0.582210</td>\n",
              "      <td>0.851010</td>\n",
              "      <td>0.851068</td>\n",
              "      <td>0.851010</td>\n",
              "      <td>0.850990</td>\n",
              "    </tr>\n",
              "  </tbody>\n",
              "</table><p>"
            ]
          },
          "metadata": {}
        },
        {
          "output_type": "stream",
          "name": "stderr",
          "text": [
            "/usr/local/lib/python3.10/dist-packages/sklearn/metrics/_classification.py:1565: UndefinedMetricWarning: Precision is ill-defined and being set to 0.0 in labels with no predicted samples. Use `zero_division` parameter to control this behavior.\n",
            "  _warn_prf(average, modifier, f\"{metric.capitalize()} is\", len(result))\n"
          ]
        },
        {
          "output_type": "execute_result",
          "data": {
            "text/plain": [
              "TrainOutput(global_step=1600, training_loss=0.36264378020693644, metrics={'train_runtime': 1460.0526, 'train_samples_per_second': 8.734, 'train_steps_per_second': 1.096, 'total_flos': 3355192177950720.0, 'train_loss': 0.36264378020693644, 'epoch': 8.0})"
            ]
          },
          "metadata": {},
          "execution_count": 15
        }
      ]
    },
    {
      "cell_type": "markdown",
      "source": [
        "**Step 8: Test the model**\n",
        "\n",
        "In this stage the model is tested on the testing dataset. This dataset isn't seen by the model during the finetuning process."
      ],
      "metadata": {
        "id": "ommSEiY7cP3P"
      }
    },
    {
      "cell_type": "code",
      "source": [
        "# Evaluate on a small subset\n",
        "small_test_dataset = torch.utils.data.Subset(test_dataset, range(0, 100))\n",
        "results = trainer.evaluate(eval_dataset=small_test_dataset)\n",
        "print(\"Results on small test dataset:\", results)\n",
        "\n",
        "# Evaluate on the full test dataset\n",
        "full_results = trainer.evaluate()\n",
        "print(\"Results on full test dataset:\", full_results)"
      ],
      "metadata": {
        "colab": {
          "base_uri": "https://localhost:8080/",
          "height": 128
        },
        "id": "YeXTN9H2axlt",
        "outputId": "8c76ae09-fd4e-4223-f3b2-8ac1a43d2a5a"
      },
      "execution_count": null,
      "outputs": [
        {
          "output_type": "display_data",
          "data": {
            "text/plain": [
              "<IPython.core.display.HTML object>"
            ],
            "text/html": [
              "\n",
              "    <div>\n",
              "      \n",
              "      <progress value='63' max='13' style='width:300px; height:20px; vertical-align: middle;'></progress>\n",
              "      [13/13 00:17]\n",
              "    </div>\n",
              "    "
            ]
          },
          "metadata": {}
        },
        {
          "output_type": "stream",
          "name": "stderr",
          "text": [
            "/usr/local/lib/python3.10/dist-packages/sklearn/metrics/_classification.py:1565: UndefinedMetricWarning: Recall is ill-defined and being set to 0.0 in labels with no true samples. Use `zero_division` parameter to control this behavior.\n",
            "  _warn_prf(average, modifier, f\"{metric.capitalize()} is\", len(result))\n"
          ]
        },
        {
          "output_type": "stream",
          "name": "stdout",
          "text": [
            "Results on small test dataset: {'eval_loss': 0.28414881229400635, 'eval_accuracy': 0.91, 'eval_precision': 1.0, 'eval_recall': 0.91, 'eval_f1': 0.9528795811518325, 'eval_runtime': 3.5016, 'eval_samples_per_second': 28.559, 'eval_steps_per_second': 3.713, 'epoch': 8.0}\n",
            "Results on full test dataset: {'eval_loss': 0.5822102427482605, 'eval_accuracy': 0.851010101010101, 'eval_precision': 0.851067916460091, 'eval_recall': 0.851010101010101, 'eval_f1': 0.8509901428053845, 'eval_runtime': 13.9127, 'eval_samples_per_second': 28.463, 'eval_steps_per_second': 3.594, 'epoch': 8.0}\n"
          ]
        }
      ]
    },
    {
      "cell_type": "code",
      "source": [
        "full_results = trainer.evaluate()\n",
        "print(\"Results on full test dataset:\", full_results)\n"
      ],
      "metadata": {
        "colab": {
          "base_uri": "https://localhost:8080/",
          "height": 75
        },
        "id": "h-uKg8xCayDB",
        "outputId": "b47c4bdf-afd5-4e1e-cfc8-5326d2427df2"
      },
      "execution_count": null,
      "outputs": [
        {
          "output_type": "display_data",
          "data": {
            "text/plain": [
              "<IPython.core.display.HTML object>"
            ],
            "text/html": [
              "\n",
              "    <div>\n",
              "      \n",
              "      <progress value='113' max='13' style='width:300px; height:20px; vertical-align: middle;'></progress>\n",
              "      [13/13 00:32]\n",
              "    </div>\n",
              "    "
            ]
          },
          "metadata": {}
        },
        {
          "output_type": "stream",
          "name": "stdout",
          "text": [
            "Results on full test dataset: {'eval_loss': 0.5822102427482605, 'eval_accuracy': 0.851010101010101, 'eval_precision': 0.851067916460091, 'eval_recall': 0.851010101010101, 'eval_f1': 0.8509901428053845, 'eval_runtime': 13.6202, 'eval_samples_per_second': 29.075, 'eval_steps_per_second': 3.671, 'epoch': 8.0}\n"
          ]
        }
      ]
    },
    {
      "cell_type": "markdown",
      "source": [
        "**To manually calculate the classification metrics (accuracy, precision, recall, and F1-score) **\n",
        "**without using `sklearn.metrics`,**\n",
        "\n",
        "follow the definitions and compute them using basic tensor operations. Here’s a breakdown of how to manually compute these metrics step by step:\n",
        "\n",
        "### 1. **Accuracy**\n",
        "Accuracy is the ratio of correct predictions to total predictions.\n",
        "\n",
        "\\[\n",
        "\\text{Accuracy} = \\frac{\\text{Number of Correct Predictions}}{\\text{Total Number of Predictions}}\n",
        "\\]\n",
        "\n",
        "### 2. **Precision**\n",
        "Precision is the ratio of correctly predicted positive observations to the total predicted positives.\n",
        "\n",
        "\\[\n",
        "\\text{Precision}_i = \\frac{TP_i}{TP_i + FP_i}\n",
        "\\]\n",
        "\n",
        "Where:\n",
        "- \\(TP_i\\) = True Positives for class \\(i\\) (correctly predicted as class \\(i\\))\n",
        "- \\(FP_i\\) = False Positives for class \\(i\\) (incorrectly predicted as class \\(i\\))\n",
        "\n",
        "### 3. **Recall**\n",
        "Recall is the ratio of correctly predicted positive observations to the all observations in the actual class.\n",
        "\n",
        "\\[\n",
        "\\text{Recall}_i = \\frac{TP_i}{TP_i + FN_i}\n",
        "\\]\n",
        "\n",
        "Where:\n",
        "- \\(FN_i\\) = False Negatives for class \\(i\\) (incorrectly predicted as other classes)\n",
        "\n",
        "### 4. **F1-Score**\n",
        "The F1-score is the harmonic mean of precision and recall, providing a single metric that balances both.\n",
        "\n",
        "\\[\n",
        "\\text{F1}_i = 2 \\times \\frac{\\text{Precision}_i \\times \\text{Recall}_i}{\\text{Precision}_i + \\text{Recall}_i}\n",
        "\\]"
      ],
      "metadata": {
        "id": "w6R6K7HwdScB"
      }
    },
    {
      "cell_type": "code",
      "source": [
        "import torch\n",
        "\n",
        "def compute_metrics(p):\n",
        "    predictions, labels = p\n",
        "    predictions = torch.tensor(predictions)\n",
        "    labels = torch.tensor(labels)\n",
        "\n",
        "    predictions = torch.argmax(predictions, dim=1)\n",
        "\n",
        "    # Convert to CPU tensors if on GPU\n",
        "    labels = labels.cpu()\n",
        "    predictions = predictions.cpu()\n",
        "\n",
        "    # Handle class range issues\n",
        "    all_classes = torch.unique(torch.cat([labels, predictions]))\n",
        "    num_classes = len(all_classes)\n",
        "\n",
        "    # Compute accuracy\n",
        "    correct = (labels == predictions).sum().item()\n",
        "    total = len(labels)\n",
        "    accuracy = correct / total if total > 0 else 0\n",
        "\n",
        "    # Initialize counts for precision, recall, F1-score\n",
        "    true_positives = torch.zeros(num_classes)\n",
        "    false_positives = torch.zeros(num_classes)\n",
        "    false_negatives = torch.zeros(num_classes)\n",
        "\n",
        "    # Count true positives, false positives, and false negatives\n",
        "    for cls in all_classes:\n",
        "        cls_mask = (labels == cls)\n",
        "        pred_mask = (predictions == cls)\n",
        "\n",
        "        true_positives[cls] = (cls_mask & pred_mask).sum().item()\n",
        "        false_positives[cls] = (~cls_mask & pred_mask).sum().item()\n",
        "        false_negatives[cls] = (cls_mask & ~pred_mask).sum().item()\n",
        "\n",
        "    # Compute precision, recall, and F1-score\n",
        "    precision = (true_positives / (true_positives + false_positives + 1e-10)).mean().item()\n",
        "    recall = (true_positives / (true_positives + false_negatives + 1e-10)).mean().item()\n",
        "    f1 = (2 * precision * recall / (precision + recall + 1e-10))\n",
        "\n",
        "    return {\n",
        "        'accuracy': accuracy,\n",
        "        'precision': precision,\n",
        "        'recall': recall,\n",
        "        'f1': f1\n",
        "    }\n"
      ],
      "metadata": {
        "id": "_VPuXqGScc05"
      },
      "execution_count": null,
      "outputs": []
    },
    {
      "cell_type": "code",
      "source": [
        "from transformers import Trainer, TrainingArguments\n",
        "\n",
        "# Adjust training arguments\n",
        "training_args = TrainingArguments(\n",
        "    output_dir='./results',\n",
        "    num_train_epochs=8,\n",
        "    per_device_train_batch_size=8,\n",
        "    per_device_eval_batch_size=8,\n",
        "    warmup_steps=500,\n",
        "    weight_decay=0.01,\n",
        "    logging_dir='./logs',\n",
        "    logging_steps=10,\n",
        "    eval_strategy=\"epoch\",\n",
        ")\n",
        "\n",
        "# Set up Trainer\n",
        "trainer = Trainer(\n",
        "    model=model,\n",
        "    args=training_args,\n",
        "    train_dataset=train_dataset,\n",
        "    eval_dataset=test_dataset,\n",
        "    compute_metrics=compute_metrics\n",
        ")\n",
        "\n",
        "# Train the model\n",
        "trainer.train()"
      ],
      "metadata": {
        "colab": {
          "base_uri": "https://localhost:8080/",
          "height": 380
        },
        "id": "oEniXgdrclWU",
        "outputId": "5ce48892-001b-42c3-f189-8884485aa818"
      },
      "execution_count": null,
      "outputs": [
        {
          "output_type": "display_data",
          "data": {
            "text/plain": [
              "<IPython.core.display.HTML object>"
            ],
            "text/html": [
              "\n",
              "    <div>\n",
              "      \n",
              "      <progress value='1600' max='1600' style='width:300px; height:20px; vertical-align: middle;'></progress>\n",
              "      [1600/1600 26:10, Epoch 8/8]\n",
              "    </div>\n",
              "    <table border=\"1\" class=\"dataframe\">\n",
              "  <thead>\n",
              " <tr style=\"text-align: left;\">\n",
              "      <th>Epoch</th>\n",
              "      <th>Training Loss</th>\n",
              "      <th>Validation Loss</th>\n",
              "      <th>Accuracy</th>\n",
              "      <th>Precision</th>\n",
              "      <th>Recall</th>\n",
              "      <th>F1</th>\n",
              "    </tr>\n",
              "  </thead>\n",
              "  <tbody>\n",
              "    <tr>\n",
              "      <td>1</td>\n",
              "      <td>0.452800</td>\n",
              "      <td>0.435077</td>\n",
              "      <td>0.833333</td>\n",
              "      <td>0.841435</td>\n",
              "      <td>0.832551</td>\n",
              "      <td>0.836970</td>\n",
              "    </tr>\n",
              "    <tr>\n",
              "      <td>2</td>\n",
              "      <td>0.275900</td>\n",
              "      <td>0.508703</td>\n",
              "      <td>0.840909</td>\n",
              "      <td>0.849784</td>\n",
              "      <td>0.840102</td>\n",
              "      <td>0.844915</td>\n",
              "    </tr>\n",
              "    <tr>\n",
              "      <td>3</td>\n",
              "      <td>0.116800</td>\n",
              "      <td>0.600248</td>\n",
              "      <td>0.876263</td>\n",
              "      <td>0.880002</td>\n",
              "      <td>0.875765</td>\n",
              "      <td>0.877878</td>\n",
              "    </tr>\n",
              "    <tr>\n",
              "      <td>4</td>\n",
              "      <td>0.103600</td>\n",
              "      <td>0.744240</td>\n",
              "      <td>0.876263</td>\n",
              "      <td>0.884907</td>\n",
              "      <td>0.875510</td>\n",
              "      <td>0.880184</td>\n",
              "    </tr>\n",
              "    <tr>\n",
              "      <td>5</td>\n",
              "      <td>0.003500</td>\n",
              "      <td>1.107542</td>\n",
              "      <td>0.815657</td>\n",
              "      <td>0.854544</td>\n",
              "      <td>0.813980</td>\n",
              "      <td>0.833769</td>\n",
              "    </tr>\n",
              "    <tr>\n",
              "      <td>6</td>\n",
              "      <td>0.000400</td>\n",
              "      <td>0.843209</td>\n",
              "      <td>0.878788</td>\n",
              "      <td>0.879501</td>\n",
              "      <td>0.878571</td>\n",
              "      <td>0.879036</td>\n",
              "    </tr>\n",
              "    <tr>\n",
              "      <td>7</td>\n",
              "      <td>0.001000</td>\n",
              "      <td>0.915907</td>\n",
              "      <td>0.878788</td>\n",
              "      <td>0.880332</td>\n",
              "      <td>0.878469</td>\n",
              "      <td>0.879400</td>\n",
              "    </tr>\n",
              "    <tr>\n",
              "      <td>8</td>\n",
              "      <td>0.065400</td>\n",
              "      <td>0.920167</td>\n",
              "      <td>0.886364</td>\n",
              "      <td>0.888209</td>\n",
              "      <td>0.886020</td>\n",
              "      <td>0.887113</td>\n",
              "    </tr>\n",
              "  </tbody>\n",
              "</table><p>"
            ]
          },
          "metadata": {}
        },
        {
          "output_type": "execute_result",
          "data": {
            "text/plain": [
              "TrainOutput(global_step=1600, training_loss=0.21177515241943184, metrics={'train_runtime': 1571.618, 'train_samples_per_second': 8.114, 'train_steps_per_second': 1.018, 'total_flos': 3355192177950720.0, 'train_loss': 0.21177515241943184, 'epoch': 8.0})"
            ]
          },
          "metadata": {},
          "execution_count": 23
        }
      ]
    },
    {
      "cell_type": "code",
      "source": [
        "# Evaluate on a small subset\n",
        "small_test_dataset = torch.utils.data.Subset(test_dataset, range(0, 100))\n",
        "results = trainer.evaluate(eval_dataset=small_test_dataset)\n",
        "print(\"Results on small test dataset:\", results)\n",
        "\n",
        "# Evaluate on the full test dataset\n",
        "full_results = trainer.evaluate()\n",
        "print(\"Results on full test dataset:\", full_results)"
      ],
      "metadata": {
        "colab": {
          "base_uri": "https://localhost:8080/",
          "height": 93
        },
        "id": "8rNUE98GitbC",
        "outputId": "95682283-1a1d-4dde-cdef-feefd3b37b49"
      },
      "execution_count": null,
      "outputs": [
        {
          "output_type": "display_data",
          "data": {
            "text/plain": [
              "<IPython.core.display.HTML object>"
            ],
            "text/html": [
              "\n",
              "    <div>\n",
              "      \n",
              "      <progress value='63' max='13' style='width:300px; height:20px; vertical-align: middle;'></progress>\n",
              "      [13/13 00:17]\n",
              "    </div>\n",
              "    "
            ]
          },
          "metadata": {}
        },
        {
          "output_type": "stream",
          "name": "stdout",
          "text": [
            "Results on small test dataset: {'eval_loss': 0.47890159487724304, 'eval_accuracy': 0.94, 'eval_precision': 0.5, 'eval_recall': 0.4699999988079071, 'eval_f1': 0.48453608179078916, 'eval_runtime': 3.5443, 'eval_samples_per_second': 28.214, 'eval_steps_per_second': 3.668, 'epoch': 8.0}\n",
            "Results on full test dataset: {'eval_loss': 0.9201666116714478, 'eval_accuracy': 0.8863636363636364, 'eval_precision': 0.8882090449333191, 'eval_recall': 0.8860204219818115, 'eval_f1': 0.8871133835059565, 'eval_runtime': 14.2042, 'eval_samples_per_second': 27.879, 'eval_steps_per_second': 3.52, 'epoch': 8.0}\n"
          ]
        }
      ]
    },
    {
      "cell_type": "code",
      "source": [
        "full_results = trainer.evaluate()\n",
        "print(\"Results on full test dataset:\", full_results)\n"
      ],
      "metadata": {
        "colab": {
          "base_uri": "https://localhost:8080/",
          "height": 75
        },
        "id": "CUHaPaZziueC",
        "outputId": "62d40538-7b9d-4c02-ee0b-6deef31e62be"
      },
      "execution_count": null,
      "outputs": [
        {
          "output_type": "display_data",
          "data": {
            "text/plain": [
              "<IPython.core.display.HTML object>"
            ],
            "text/html": [
              "\n",
              "    <div>\n",
              "      \n",
              "      <progress value='113' max='13' style='width:300px; height:20px; vertical-align: middle;'></progress>\n",
              "      [13/13 00:32]\n",
              "    </div>\n",
              "    "
            ]
          },
          "metadata": {}
        },
        {
          "output_type": "stream",
          "name": "stdout",
          "text": [
            "Results on full test dataset: {'eval_loss': 0.9201666116714478, 'eval_accuracy': 0.8863636363636364, 'eval_precision': 0.8882090449333191, 'eval_recall': 0.8860204219818115, 'eval_f1': 0.8871133835059565, 'eval_runtime': 13.6921, 'eval_samples_per_second': 28.922, 'eval_steps_per_second': 3.652, 'epoch': 8.0}\n"
          ]
        }
      ]
    },
    {
      "cell_type": "markdown",
      "source": [
        "**Step 9: Push the model to Huggingface Hub**\n",
        "\n",
        "One of the aims of this research/project is to contribute to the IT community in the sector of NLP tasks on low-resourced languages. Hence, the final model was pushed and made publicly available on Huggingface. You can find the model on huggingface. https://huggingface.co/ermi8/amharic-hate-speech-detection"
      ],
      "metadata": {
        "id": "5KMzJ8N_a1_j"
      }
    },
    {
      "cell_type": "code",
      "source": [
        "pip install transformers huggingface_hub"
      ],
      "metadata": {
        "colab": {
          "base_uri": "https://localhost:8080/"
        },
        "id": "4JrbI0WumDtf",
        "outputId": "4e7780cf-0315-4f53-f8ac-9f9a5120a4bc"
      },
      "execution_count": null,
      "outputs": [
        {
          "output_type": "stream",
          "name": "stdout",
          "text": [
            "Requirement already satisfied: transformers in /usr/local/lib/python3.10/dist-packages (4.47.1)\n",
            "Requirement already satisfied: huggingface_hub in /usr/local/lib/python3.10/dist-packages (0.27.0)\n",
            "Requirement already satisfied: filelock in /usr/local/lib/python3.10/dist-packages (from transformers) (3.16.1)\n",
            "Requirement already satisfied: numpy>=1.17 in /usr/local/lib/python3.10/dist-packages (from transformers) (1.26.4)\n",
            "Requirement already satisfied: packaging>=20.0 in /usr/local/lib/python3.10/dist-packages (from transformers) (24.2)\n",
            "Requirement already satisfied: pyyaml>=5.1 in /usr/local/lib/python3.10/dist-packages (from transformers) (6.0.2)\n",
            "Requirement already satisfied: regex!=2019.12.17 in /usr/local/lib/python3.10/dist-packages (from transformers) (2024.11.6)\n",
            "Requirement already satisfied: requests in /usr/local/lib/python3.10/dist-packages (from transformers) (2.32.3)\n",
            "Requirement already satisfied: tokenizers<0.22,>=0.21 in /usr/local/lib/python3.10/dist-packages (from transformers) (0.21.0)\n",
            "Requirement already satisfied: safetensors>=0.4.1 in /usr/local/lib/python3.10/dist-packages (from transformers) (0.4.5)\n",
            "Requirement already satisfied: tqdm>=4.27 in /usr/local/lib/python3.10/dist-packages (from transformers) (4.67.1)\n",
            "Requirement already satisfied: fsspec>=2023.5.0 in /usr/local/lib/python3.10/dist-packages (from huggingface_hub) (2024.9.0)\n",
            "Requirement already satisfied: typing-extensions>=3.7.4.3 in /usr/local/lib/python3.10/dist-packages (from huggingface_hub) (4.12.2)\n",
            "Requirement already satisfied: charset-normalizer<4,>=2 in /usr/local/lib/python3.10/dist-packages (from requests->transformers) (3.4.0)\n",
            "Requirement already satisfied: idna<4,>=2.5 in /usr/local/lib/python3.10/dist-packages (from requests->transformers) (3.10)\n",
            "Requirement already satisfied: urllib3<3,>=1.21.1 in /usr/local/lib/python3.10/dist-packages (from requests->transformers) (2.2.3)\n",
            "Requirement already satisfied: certifi>=2017.4.17 in /usr/local/lib/python3.10/dist-packages (from requests->transformers) (2024.12.14)\n"
          ]
        }
      ]
    },
    {
      "cell_type": "code",
      "source": [
        "#loggin to huggingface-cli\n",
        "!huggingface-cli login"
      ],
      "metadata": {
        "colab": {
          "base_uri": "https://localhost:8080/"
        },
        "id": "usCmcbNFmGgX",
        "outputId": "e209bfa3-ef49-4dd6-d8a0-202b0ee88031"
      },
      "execution_count": null,
      "outputs": [
        {
          "output_type": "stream",
          "name": "stdout",
          "text": [
            "\n",
            "    _|    _|  _|    _|    _|_|_|    _|_|_|  _|_|_|  _|      _|    _|_|_|      _|_|_|_|    _|_|      _|_|_|  _|_|_|_|\n",
            "    _|    _|  _|    _|  _|        _|          _|    _|_|    _|  _|            _|        _|    _|  _|        _|\n",
            "    _|_|_|_|  _|    _|  _|  _|_|  _|  _|_|    _|    _|  _|  _|  _|  _|_|      _|_|_|    _|_|_|_|  _|        _|_|_|\n",
            "    _|    _|  _|    _|  _|    _|  _|    _|    _|    _|    _|_|  _|    _|      _|        _|    _|  _|        _|\n",
            "    _|    _|    _|_|      _|_|_|    _|_|_|  _|_|_|  _|      _|    _|_|_|      _|        _|    _|    _|_|_|  _|_|_|_|\n",
            "\n",
            "    A token is already saved on your machine. Run `huggingface-cli whoami` to get more information or `huggingface-cli logout` if you want to log out.\n",
            "    Setting a new token will erase the existing one.\n",
            "    To log in, `huggingface_hub` requires a token generated from https://huggingface.co/settings/tokens .\n",
            "Enter your token (input will not be visible): \n",
            "Add token as git credential? (Y/n) \n",
            "Token is valid (permission: fineGrained).\n",
            "The token `fine-tuning` has been saved to /root/.cache/huggingface/stored_tokens\n",
            "\u001b[1m\u001b[31mCannot authenticate through git-credential as no helper is defined on your machine.\n",
            "You might have to re-authenticate when pushing to the Hugging Face Hub.\n",
            "Run the following command in your terminal in case you want to set the 'store' credential helper as default.\n",
            "\n",
            "git config --global credential.helper store\n",
            "\n",
            "Read https://git-scm.com/book/en/v2/Git-Tools-Credential-Storage for more details.\u001b[0m\n",
            "Token has not been saved to git credential helper.\n",
            "Your token has been saved to /root/.cache/huggingface/token\n",
            "Login successful.\n",
            "The current active token is: `fine-tuning`\n"
          ]
        }
      ]
    },
    {
      "cell_type": "code",
      "source": [
        "# Save the model and tokenizer to Google Drive\n",
        "model.save_pretrained(\"/content/drive/My Drive/Amharic hate speech detection\")\n",
        "tokenizer.save_pretrained(\"/content/drive/My Drive/Amharic hate speech detection\")\n"
      ],
      "metadata": {
        "colab": {
          "base_uri": "https://localhost:8080/"
        },
        "id": "7vNOIIFUmpBh",
        "outputId": "d11f9d39-72ea-413d-bb8e-47b2e1937bdc"
      },
      "execution_count": null,
      "outputs": [
        {
          "output_type": "execute_result",
          "data": {
            "text/plain": [
              "('/content/drive/My Drive/Amharic hate speech detection/tokenizer_config.json',\n",
              " '/content/drive/My Drive/Amharic hate speech detection/special_tokens_map.json',\n",
              " '/content/drive/My Drive/Amharic hate speech detection/vocab.txt',\n",
              " '/content/drive/My Drive/Amharic hate speech detection/added_tokens.json')"
            ]
          },
          "metadata": {},
          "execution_count": 31
        }
      ]
    },
    {
      "cell_type": "markdown",
      "source": [
        "Push the Model to Hugging Face"
      ],
      "metadata": {
        "id": "cBxe4UGOo2oB"
      }
    },
    {
      "cell_type": "code",
      "source": [
        "from huggingface_hub import upload_folder, create_repo\n",
        "\n",
        "# Repository name on Hugging Face\n",
        "repo_name = \"ermi8/amharic-hate-speech-detection\"\n",
        "\n",
        "# Create the repository (set `private=True` if needed)\n",
        "create_repo(repo_name, private=False)\n",
        "\n",
        "# Upload the folder from Google Drive\n",
        "upload_folder(\n",
        "    folder_path=\"/content/drive/My Drive/Amharic hate speech detection\",\n",
        "    repo_id=repo_name,\n",
        "    commit_message=\"Initial upload of Amharic hate speech detection model\"\n",
        ")"
      ],
      "metadata": {
        "colab": {
          "base_uri": "https://localhost:8080/",
          "height": 238,
          "referenced_widgets": [
            "742ccede0ac743bb87c254740c5ab8cc",
            "b5cd3b9c3c1d4be6bfd281e0666db83f",
            "2f51199130db4eefab2f5e5d2261d970",
            "62005cec1cb44051b374827ab96ad5f0",
            "40fa4b1d58304a9aaa862923084fffa3",
            "a2ca4c90b8954ab2900b86c3b090564c",
            "a29bbb808fa04f79a8d1eba2c316c603",
            "d6b0dbbbfb6345b992ce350dbcbb875e",
            "bada00be22ed493d90fa67b96a4e5467",
            "c83c0f1b1c17451bab67da44c9f26693",
            "c74b0388505b40d5b431d6591cac1bad",
            "6a65eb5354b946a298593083a8d2b9d1",
            "0dfd3310d5eb40e3960d917898b89c4a",
            "2f5410dcff01447096c38392a52cc3a7",
            "e28a447b4e6d4c799edf7530ef223939",
            "7b159e6a93d34ee2ae96f6b28f791555",
            "337ae3a4346b4bbab93956147f86fd49",
            "d4ab85e927ca4b388ed2ca0aaff607b3",
            "4e24a4a50ea144188d0d512b96d4ffe8",
            "51980ba136c1402abd58e17c71f89362",
            "00ba64edf1834772b8408d0720ab6efb",
            "f9fade0da2b648f9bf3e6c9392997c63",
            "e771475e5a7342afafcf3c0f87051cb6",
            "19dca4f7034a441cac83e83d8ada8cba",
            "254113655b744fac8bf965dbec1ce0ba",
            "670acabf85a04836bcb0eaf6c9bbc123",
            "1b608041fc374c36b3c898eae0f07522",
            "3bbdd33954124342943cf0db58f17105",
            "67d3509e2d24401bb998d530cc1d717e",
            "cd07ac41f0454dc5b802bb9dbbe1f414",
            "79075ede3f554fd7800636194720cbbc",
            "03887b77c18c491896f5ee9729324cef",
            "ee2187e87b5740c994e4994ad3e4533f"
          ]
        },
        "id": "010fZLiSoyJn",
        "outputId": "05623968-ed9c-441c-c89e-2608f7db6131"
      },
      "execution_count": null,
      "outputs": [
        {
          "output_type": "display_data",
          "data": {
            "text/plain": [
              "Upload 2 LFS files:   0%|          | 0/2 [00:00<?, ?it/s]"
            ],
            "application/vnd.jupyter.widget-view+json": {
              "version_major": 2,
              "version_minor": 0,
              "model_id": "742ccede0ac743bb87c254740c5ab8cc"
            }
          },
          "metadata": {}
        },
        {
          "output_type": "display_data",
          "data": {
            "text/plain": [
              "vocab.txt:   0%|          | 0.00/1.55M [00:00<?, ?B/s]"
            ],
            "application/vnd.jupyter.widget-view+json": {
              "version_major": 2,
              "version_minor": 0,
              "model_id": "6a65eb5354b946a298593083a8d2b9d1"
            }
          },
          "metadata": {}
        },
        {
          "output_type": "display_data",
          "data": {
            "text/plain": [
              "model.safetensors:   0%|          | 0.00/711M [00:00<?, ?B/s]"
            ],
            "application/vnd.jupyter.widget-view+json": {
              "version_major": 2,
              "version_minor": 0,
              "model_id": "e771475e5a7342afafcf3c0f87051cb6"
            }
          },
          "metadata": {}
        },
        {
          "output_type": "execute_result",
          "data": {
            "text/plain": [
              "CommitInfo(commit_url='https://huggingface.co/ermi8/amharic-hate-speech-detection/commit/1aada8ca99e61963e6d228dbb1272dae336c899f', commit_message='Initial upload of Amharic hate speech detection model', commit_description='', oid='1aada8ca99e61963e6d228dbb1272dae336c899f', pr_url=None, repo_url=RepoUrl('https://huggingface.co/ermi8/amharic-hate-speech-detection', endpoint='https://huggingface.co', repo_type='model', repo_id='ermi8/amharic-hate-speech-detection'), pr_revision=None, pr_num=None)"
            ],
            "application/vnd.google.colaboratory.intrinsic+json": {
              "type": "string"
            }
          },
          "metadata": {},
          "execution_count": 32
        }
      ]
    }
  ]
}